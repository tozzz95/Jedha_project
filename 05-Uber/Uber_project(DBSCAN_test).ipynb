{
 "cells": [
  {
   "cell_type": "markdown",
   "metadata": {},
   "source": [
    "![title](uber.jpeg)"
   ]
  },
  {
   "cell_type": "code",
   "execution_count": 1,
   "metadata": {},
   "outputs": [],
   "source": [
    "!pip install plotly -q"
   ]
  },
  {
   "cell_type": "code",
   "execution_count": 2,
   "metadata": {},
   "outputs": [],
   "source": [
    "import plotly.graph_objects as go\n",
    "from sklearn.datasets import load_iris\n",
    "from sklearn.preprocessing import StandardScaler\n",
    "from sklearn.cluster import KMeans\n",
    "import seaborn as sns\n",
    "import pandas as pd \n",
    "import numpy as np \n",
    "import datetime as datetime\n",
    "import plotly.express as px\n",
    "from sklearn.metrics import silhouette_score\n",
    "from sklearn.datasets import load_sample_image \n",
    "import matplotlib.pyplot as plt\n",
    "import matplotlib.image as mpimg\n",
    "import warnings; warnings.simplefilter('ignore')"
   ]
  },
  {
   "cell_type": "code",
   "execution_count": 3,
   "metadata": {},
   "outputs": [],
   "source": [
    "apr = pd.read_csv('uber-raw-data-apr14.csv')\n",
    "may = pd.read_csv('uber-raw-data-may14.csv')\n",
    "jun = pd.read_csv('uber-raw-data-jun14.csv')\n",
    "jul = pd.read_csv('uber-raw-data-jul14.csv')\n",
    "aug = pd.read_csv('uber-raw-data-aug14.csv')\n",
    "sep = pd.read_csv('uber-raw-data-sep14.csv')"
   ]
  },
  {
   "cell_type": "code",
   "execution_count": 4,
   "metadata": {},
   "outputs": [
    {
     "data": {
      "text/html": [
       "<div>\n",
       "<style scoped>\n",
       "    .dataframe tbody tr th:only-of-type {\n",
       "        vertical-align: middle;\n",
       "    }\n",
       "\n",
       "    .dataframe tbody tr th {\n",
       "        vertical-align: top;\n",
       "    }\n",
       "\n",
       "    .dataframe thead th {\n",
       "        text-align: right;\n",
       "    }\n",
       "</style>\n",
       "<table border=\"1\" class=\"dataframe\">\n",
       "  <thead>\n",
       "    <tr style=\"text-align: right;\">\n",
       "      <th></th>\n",
       "      <th>Date/Time</th>\n",
       "      <th>Lat</th>\n",
       "      <th>Lon</th>\n",
       "      <th>Base</th>\n",
       "    </tr>\n",
       "  </thead>\n",
       "  <tbody>\n",
       "    <tr>\n",
       "      <th>0</th>\n",
       "      <td>4/1/2014 0:11:00</td>\n",
       "      <td>40.7690</td>\n",
       "      <td>-73.9549</td>\n",
       "      <td>B02512</td>\n",
       "    </tr>\n",
       "    <tr>\n",
       "      <th>1</th>\n",
       "      <td>4/1/2014 0:17:00</td>\n",
       "      <td>40.7267</td>\n",
       "      <td>-74.0345</td>\n",
       "      <td>B02512</td>\n",
       "    </tr>\n",
       "    <tr>\n",
       "      <th>2</th>\n",
       "      <td>4/1/2014 0:21:00</td>\n",
       "      <td>40.7316</td>\n",
       "      <td>-73.9873</td>\n",
       "      <td>B02512</td>\n",
       "    </tr>\n",
       "    <tr>\n",
       "      <th>3</th>\n",
       "      <td>4/1/2014 0:28:00</td>\n",
       "      <td>40.7588</td>\n",
       "      <td>-73.9776</td>\n",
       "      <td>B02512</td>\n",
       "    </tr>\n",
       "    <tr>\n",
       "      <th>4</th>\n",
       "      <td>4/1/2014 0:33:00</td>\n",
       "      <td>40.7594</td>\n",
       "      <td>-73.9722</td>\n",
       "      <td>B02512</td>\n",
       "    </tr>\n",
       "  </tbody>\n",
       "</table>\n",
       "</div>"
      ],
      "text/plain": [
       "          Date/Time      Lat      Lon    Base\n",
       "0  4/1/2014 0:11:00  40.7690 -73.9549  B02512\n",
       "1  4/1/2014 0:17:00  40.7267 -74.0345  B02512\n",
       "2  4/1/2014 0:21:00  40.7316 -73.9873  B02512\n",
       "3  4/1/2014 0:28:00  40.7588 -73.9776  B02512\n",
       "4  4/1/2014 0:33:00  40.7594 -73.9722  B02512"
      ]
     },
     "execution_count": 4,
     "metadata": {},
     "output_type": "execute_result"
    }
   ],
   "source": [
    "apr.head()"
   ]
  },
  {
   "cell_type": "code",
   "execution_count": 5,
   "metadata": {},
   "outputs": [
    {
     "data": {
      "text/plain": [
       "0           4/1/2014 0:11:00\n",
       "1           4/1/2014 0:17:00\n",
       "2           4/1/2014 0:21:00\n",
       "3           4/1/2014 0:28:00\n",
       "4           4/1/2014 0:33:00\n",
       "                 ...        \n",
       "564511    4/30/2014 23:22:00\n",
       "564512    4/30/2014 23:26:00\n",
       "564513    4/30/2014 23:31:00\n",
       "564514    4/30/2014 23:32:00\n",
       "564515    4/30/2014 23:48:00\n",
       "Name: Date/Time, Length: 564516, dtype: object"
      ]
     },
     "execution_count": 5,
     "metadata": {},
     "output_type": "execute_result"
    }
   ],
   "source": [
    "apr['Date/Time']"
   ]
  },
  {
   "cell_type": "code",
   "execution_count": 6,
   "metadata": {},
   "outputs": [],
   "source": [
    "# On merge tous les dataset en un seul mais nous travaillerons uniquement sur un seul \n",
    "# mois car les calculs seraient beaucoup trop longs sur plus de 4M lignes\n",
    "\n",
    "uber_final = may.append([apr, jun, jul, aug, sep], ignore_index = True)\n",
    "uber_final\n",
    "\n",
    "# Nous allons travailler sur un seul mois pour le KMeans\n",
    "\n",
    "uber = apr"
   ]
  },
  {
   "cell_type": "code",
   "execution_count": 7,
   "metadata": {},
   "outputs": [
    {
     "data": {
      "text/plain": [
       "687971    2014-04-01 00:00:00\n",
       "687972    2014-04-01 00:00:00\n",
       "979235    2014-04-01 00:00:00\n",
       "871234    2014-04-01 00:01:00\n",
       "687973    2014-04-01 00:02:00\n",
       "                  ...        \n",
       "3781160   2014-09-30 22:59:00\n",
       "3781159   2014-09-30 22:59:00\n",
       "3781158   2014-09-30 22:59:00\n",
       "4158853   2014-09-30 22:59:00\n",
       "4355992   2014-09-30 22:59:00\n",
       "Name: Date/Time, Length: 4534327, dtype: datetime64[ns]"
      ]
     },
     "execution_count": 7,
     "metadata": {},
     "output_type": "execute_result"
    }
   ],
   "source": [
    "# Create a second column conerning the date and the hour for all the months\n",
    "\n",
    "uber_final['Week'] =pd.to_datetime(uber_final['Date/Time']).dt.isocalendar().week\n",
    "uber_final['Year'] = pd.to_datetime(uber_final['Date/Time']).dt.isocalendar().year\n",
    "uber_final['Month'] = pd.to_datetime(uber_final['Date/Time']).dt.month\n",
    "uber_final['Week_day'] = pd.to_datetime(uber_final['Date/Time']).dt.weekday\n",
    "# The new Date column can be used thanks to the datetime format compare to \n",
    "# previous one\n",
    "uber_final['Date/Time'] = pd.to_datetime(uber_final['Date/Time'])\n",
    "uber_final['Date/Time'].sort_values()"
   ]
  },
  {
   "cell_type": "code",
   "execution_count": 8,
   "metadata": {},
   "outputs": [],
   "source": [
    "uber_final[[\"Hours\",\"Minutes\"]] = pd.DataFrame([(x.hour, x.minute) for x in uber_final[\"Date/Time\"]])"
   ]
  },
  {
   "cell_type": "code",
   "execution_count": 9,
   "metadata": {},
   "outputs": [
    {
     "data": {
      "text/plain": [
       "Index(['Date/Time', 'Lat', 'Lon', 'Base', 'Week', 'Year', 'Month', 'Week_day',\n",
       "       'Hours', 'Minutes'],\n",
       "      dtype='object')"
      ]
     },
     "execution_count": 9,
     "metadata": {},
     "output_type": "execute_result"
    }
   ],
   "source": [
    "uber_final.columns"
   ]
  },
  {
   "cell_type": "code",
   "execution_count": 10,
   "metadata": {},
   "outputs": [
    {
     "data": {
      "text/html": [
       "<div>\n",
       "<style scoped>\n",
       "    .dataframe tbody tr th:only-of-type {\n",
       "        vertical-align: middle;\n",
       "    }\n",
       "\n",
       "    .dataframe tbody tr th {\n",
       "        vertical-align: top;\n",
       "    }\n",
       "\n",
       "    .dataframe thead th {\n",
       "        text-align: right;\n",
       "    }\n",
       "</style>\n",
       "<table border=\"1\" class=\"dataframe\">\n",
       "  <thead>\n",
       "    <tr style=\"text-align: right;\">\n",
       "      <th></th>\n",
       "      <th>Date/Time</th>\n",
       "      <th>Week_day</th>\n",
       "      <th>Hours</th>\n",
       "      <th>Minutes</th>\n",
       "      <th>Week</th>\n",
       "      <th>Month</th>\n",
       "      <th>Year</th>\n",
       "      <th>Lat</th>\n",
       "      <th>Lon</th>\n",
       "      <th>Base</th>\n",
       "    </tr>\n",
       "  </thead>\n",
       "  <tbody>\n",
       "    <tr>\n",
       "      <th>0</th>\n",
       "      <td>2014-05-01 00:02:00</td>\n",
       "      <td>3</td>\n",
       "      <td>0</td>\n",
       "      <td>2</td>\n",
       "      <td>18</td>\n",
       "      <td>5</td>\n",
       "      <td>2014</td>\n",
       "      <td>40.7521</td>\n",
       "      <td>-73.9914</td>\n",
       "      <td>B02512</td>\n",
       "    </tr>\n",
       "    <tr>\n",
       "      <th>1</th>\n",
       "      <td>2014-05-01 00:06:00</td>\n",
       "      <td>3</td>\n",
       "      <td>0</td>\n",
       "      <td>6</td>\n",
       "      <td>18</td>\n",
       "      <td>5</td>\n",
       "      <td>2014</td>\n",
       "      <td>40.6965</td>\n",
       "      <td>-73.9715</td>\n",
       "      <td>B02512</td>\n",
       "    </tr>\n",
       "    <tr>\n",
       "      <th>2</th>\n",
       "      <td>2014-05-01 00:15:00</td>\n",
       "      <td>3</td>\n",
       "      <td>0</td>\n",
       "      <td>15</td>\n",
       "      <td>18</td>\n",
       "      <td>5</td>\n",
       "      <td>2014</td>\n",
       "      <td>40.7464</td>\n",
       "      <td>-73.9838</td>\n",
       "      <td>B02512</td>\n",
       "    </tr>\n",
       "    <tr>\n",
       "      <th>3</th>\n",
       "      <td>2014-05-01 00:17:00</td>\n",
       "      <td>3</td>\n",
       "      <td>0</td>\n",
       "      <td>17</td>\n",
       "      <td>18</td>\n",
       "      <td>5</td>\n",
       "      <td>2014</td>\n",
       "      <td>40.7463</td>\n",
       "      <td>-74.0011</td>\n",
       "      <td>B02512</td>\n",
       "    </tr>\n",
       "    <tr>\n",
       "      <th>4</th>\n",
       "      <td>2014-05-01 00:17:00</td>\n",
       "      <td>3</td>\n",
       "      <td>0</td>\n",
       "      <td>17</td>\n",
       "      <td>18</td>\n",
       "      <td>5</td>\n",
       "      <td>2014</td>\n",
       "      <td>40.7594</td>\n",
       "      <td>-73.9734</td>\n",
       "      <td>B02512</td>\n",
       "    </tr>\n",
       "    <tr>\n",
       "      <th>...</th>\n",
       "      <td>...</td>\n",
       "      <td>...</td>\n",
       "      <td>...</td>\n",
       "      <td>...</td>\n",
       "      <td>...</td>\n",
       "      <td>...</td>\n",
       "      <td>...</td>\n",
       "      <td>...</td>\n",
       "      <td>...</td>\n",
       "      <td>...</td>\n",
       "    </tr>\n",
       "    <tr>\n",
       "      <th>4534322</th>\n",
       "      <td>2014-09-30 22:57:00</td>\n",
       "      <td>1</td>\n",
       "      <td>22</td>\n",
       "      <td>57</td>\n",
       "      <td>40</td>\n",
       "      <td>9</td>\n",
       "      <td>2014</td>\n",
       "      <td>40.7668</td>\n",
       "      <td>-73.9845</td>\n",
       "      <td>B02764</td>\n",
       "    </tr>\n",
       "    <tr>\n",
       "      <th>4534323</th>\n",
       "      <td>2014-09-30 22:57:00</td>\n",
       "      <td>1</td>\n",
       "      <td>22</td>\n",
       "      <td>57</td>\n",
       "      <td>40</td>\n",
       "      <td>9</td>\n",
       "      <td>2014</td>\n",
       "      <td>40.6911</td>\n",
       "      <td>-74.1773</td>\n",
       "      <td>B02764</td>\n",
       "    </tr>\n",
       "    <tr>\n",
       "      <th>4534324</th>\n",
       "      <td>2014-09-30 22:58:00</td>\n",
       "      <td>1</td>\n",
       "      <td>22</td>\n",
       "      <td>58</td>\n",
       "      <td>40</td>\n",
       "      <td>9</td>\n",
       "      <td>2014</td>\n",
       "      <td>40.8519</td>\n",
       "      <td>-73.9319</td>\n",
       "      <td>B02764</td>\n",
       "    </tr>\n",
       "    <tr>\n",
       "      <th>4534325</th>\n",
       "      <td>2014-09-30 22:58:00</td>\n",
       "      <td>1</td>\n",
       "      <td>22</td>\n",
       "      <td>58</td>\n",
       "      <td>40</td>\n",
       "      <td>9</td>\n",
       "      <td>2014</td>\n",
       "      <td>40.7081</td>\n",
       "      <td>-74.0066</td>\n",
       "      <td>B02764</td>\n",
       "    </tr>\n",
       "    <tr>\n",
       "      <th>4534326</th>\n",
       "      <td>2014-09-30 22:58:00</td>\n",
       "      <td>1</td>\n",
       "      <td>22</td>\n",
       "      <td>58</td>\n",
       "      <td>40</td>\n",
       "      <td>9</td>\n",
       "      <td>2014</td>\n",
       "      <td>40.7140</td>\n",
       "      <td>-73.9496</td>\n",
       "      <td>B02764</td>\n",
       "    </tr>\n",
       "  </tbody>\n",
       "</table>\n",
       "<p>4534327 rows × 10 columns</p>\n",
       "</div>"
      ],
      "text/plain": [
       "                  Date/Time  Week_day  Hours  Minutes  Week  Month  Year  \\\n",
       "0       2014-05-01 00:02:00         3      0        2    18      5  2014   \n",
       "1       2014-05-01 00:06:00         3      0        6    18      5  2014   \n",
       "2       2014-05-01 00:15:00         3      0       15    18      5  2014   \n",
       "3       2014-05-01 00:17:00         3      0       17    18      5  2014   \n",
       "4       2014-05-01 00:17:00         3      0       17    18      5  2014   \n",
       "...                     ...       ...    ...      ...   ...    ...   ...   \n",
       "4534322 2014-09-30 22:57:00         1     22       57    40      9  2014   \n",
       "4534323 2014-09-30 22:57:00         1     22       57    40      9  2014   \n",
       "4534324 2014-09-30 22:58:00         1     22       58    40      9  2014   \n",
       "4534325 2014-09-30 22:58:00         1     22       58    40      9  2014   \n",
       "4534326 2014-09-30 22:58:00         1     22       58    40      9  2014   \n",
       "\n",
       "             Lat      Lon    Base  \n",
       "0        40.7521 -73.9914  B02512  \n",
       "1        40.6965 -73.9715  B02512  \n",
       "2        40.7464 -73.9838  B02512  \n",
       "3        40.7463 -74.0011  B02512  \n",
       "4        40.7594 -73.9734  B02512  \n",
       "...          ...      ...     ...  \n",
       "4534322  40.7668 -73.9845  B02764  \n",
       "4534323  40.6911 -74.1773  B02764  \n",
       "4534324  40.8519 -73.9319  B02764  \n",
       "4534325  40.7081 -74.0066  B02764  \n",
       "4534326  40.7140 -73.9496  B02764  \n",
       "\n",
       "[4534327 rows x 10 columns]"
      ]
     },
     "execution_count": 10,
     "metadata": {},
     "output_type": "execute_result"
    }
   ],
   "source": [
    "# On réorganise l'ordre des colonnes pour un df plus esthétique\n",
    "uber_final = uber_final.iloc[:, [0, 7, 8, 9, 4, 6, 5, 1, 2, 3]]\n",
    "uber_final"
   ]
  },
  {
   "cell_type": "code",
   "execution_count": 11,
   "metadata": {},
   "outputs": [
    {
     "data": {
      "text/plain": [
       "326800   2014-04-01 00:00:00\n",
       "35537    2014-04-01 00:00:00\n",
       "35536    2014-04-01 00:00:00\n",
       "218799   2014-04-01 00:01:00\n",
       "35538    2014-04-01 00:02:00\n",
       "                 ...        \n",
       "35535    2014-04-30 23:59:00\n",
       "554607   2014-04-30 23:59:00\n",
       "554606   2014-04-30 23:59:00\n",
       "554605   2014-04-30 23:59:00\n",
       "554604   2014-04-30 23:59:00\n",
       "Name: Date/Time, Length: 564516, dtype: datetime64[ns]"
      ]
     },
     "execution_count": 11,
     "metadata": {},
     "output_type": "execute_result"
    }
   ],
   "source": [
    "# Create a second column conerning the date and the hour only for April\n",
    "\n",
    "uber['Week'] =pd.to_datetime(uber['Date/Time']).dt.isocalendar().week\n",
    "uber['Year'] = pd.to_datetime(uber['Date/Time']).dt.isocalendar().year\n",
    "uber['Month'] = pd.to_datetime(uber['Date/Time']).dt.month\n",
    "uber['Week_day'] = pd.to_datetime(uber['Date/Time']).dt.weekday\n",
    "# The new Date column can be used thanks to the datetime format compare to \n",
    "# previous one\n",
    "uber['Date/Time'] = pd.to_datetime(uber['Date/Time'])\n",
    "uber['Date/Time'].sort_values()"
   ]
  },
  {
   "cell_type": "code",
   "execution_count": 12,
   "metadata": {},
   "outputs": [],
   "source": [
    "uber[[\"Hours\",\"Minutes\"]] = pd.DataFrame([(x.hour, x.minute) for x in uber[\"Date/Time\"]])"
   ]
  },
  {
   "cell_type": "code",
   "execution_count": 13,
   "metadata": {},
   "outputs": [
    {
     "data": {
      "text/plain": [
       "Index(['Date/Time', 'Lat', 'Lon', 'Base', 'Week', 'Year', 'Month', 'Week_day',\n",
       "       'Hours', 'Minutes'],\n",
       "      dtype='object')"
      ]
     },
     "execution_count": 13,
     "metadata": {},
     "output_type": "execute_result"
    }
   ],
   "source": [
    "uber.columns"
   ]
  },
  {
   "cell_type": "code",
   "execution_count": 14,
   "metadata": {},
   "outputs": [
    {
     "data": {
      "text/html": [
       "<div>\n",
       "<style scoped>\n",
       "    .dataframe tbody tr th:only-of-type {\n",
       "        vertical-align: middle;\n",
       "    }\n",
       "\n",
       "    .dataframe tbody tr th {\n",
       "        vertical-align: top;\n",
       "    }\n",
       "\n",
       "    .dataframe thead th {\n",
       "        text-align: right;\n",
       "    }\n",
       "</style>\n",
       "<table border=\"1\" class=\"dataframe\">\n",
       "  <thead>\n",
       "    <tr style=\"text-align: right;\">\n",
       "      <th></th>\n",
       "      <th>Date/Time</th>\n",
       "      <th>Week_day</th>\n",
       "      <th>Hours</th>\n",
       "      <th>Minutes</th>\n",
       "      <th>Week</th>\n",
       "      <th>Month</th>\n",
       "      <th>Year</th>\n",
       "      <th>Lat</th>\n",
       "      <th>Lon</th>\n",
       "      <th>Base</th>\n",
       "    </tr>\n",
       "  </thead>\n",
       "  <tbody>\n",
       "    <tr>\n",
       "      <th>0</th>\n",
       "      <td>2014-04-01 00:11:00</td>\n",
       "      <td>1</td>\n",
       "      <td>0</td>\n",
       "      <td>11</td>\n",
       "      <td>14</td>\n",
       "      <td>4</td>\n",
       "      <td>2014</td>\n",
       "      <td>40.7690</td>\n",
       "      <td>-73.9549</td>\n",
       "      <td>B02512</td>\n",
       "    </tr>\n",
       "    <tr>\n",
       "      <th>1</th>\n",
       "      <td>2014-04-01 00:17:00</td>\n",
       "      <td>1</td>\n",
       "      <td>0</td>\n",
       "      <td>17</td>\n",
       "      <td>14</td>\n",
       "      <td>4</td>\n",
       "      <td>2014</td>\n",
       "      <td>40.7267</td>\n",
       "      <td>-74.0345</td>\n",
       "      <td>B02512</td>\n",
       "    </tr>\n",
       "    <tr>\n",
       "      <th>2</th>\n",
       "      <td>2014-04-01 00:21:00</td>\n",
       "      <td>1</td>\n",
       "      <td>0</td>\n",
       "      <td>21</td>\n",
       "      <td>14</td>\n",
       "      <td>4</td>\n",
       "      <td>2014</td>\n",
       "      <td>40.7316</td>\n",
       "      <td>-73.9873</td>\n",
       "      <td>B02512</td>\n",
       "    </tr>\n",
       "    <tr>\n",
       "      <th>3</th>\n",
       "      <td>2014-04-01 00:28:00</td>\n",
       "      <td>1</td>\n",
       "      <td>0</td>\n",
       "      <td>28</td>\n",
       "      <td>14</td>\n",
       "      <td>4</td>\n",
       "      <td>2014</td>\n",
       "      <td>40.7588</td>\n",
       "      <td>-73.9776</td>\n",
       "      <td>B02512</td>\n",
       "    </tr>\n",
       "    <tr>\n",
       "      <th>4</th>\n",
       "      <td>2014-04-01 00:33:00</td>\n",
       "      <td>1</td>\n",
       "      <td>0</td>\n",
       "      <td>33</td>\n",
       "      <td>14</td>\n",
       "      <td>4</td>\n",
       "      <td>2014</td>\n",
       "      <td>40.7594</td>\n",
       "      <td>-73.9722</td>\n",
       "      <td>B02512</td>\n",
       "    </tr>\n",
       "    <tr>\n",
       "      <th>...</th>\n",
       "      <td>...</td>\n",
       "      <td>...</td>\n",
       "      <td>...</td>\n",
       "      <td>...</td>\n",
       "      <td>...</td>\n",
       "      <td>...</td>\n",
       "      <td>...</td>\n",
       "      <td>...</td>\n",
       "      <td>...</td>\n",
       "      <td>...</td>\n",
       "    </tr>\n",
       "    <tr>\n",
       "      <th>564511</th>\n",
       "      <td>2014-04-30 23:22:00</td>\n",
       "      <td>2</td>\n",
       "      <td>23</td>\n",
       "      <td>22</td>\n",
       "      <td>18</td>\n",
       "      <td>4</td>\n",
       "      <td>2014</td>\n",
       "      <td>40.7640</td>\n",
       "      <td>-73.9744</td>\n",
       "      <td>B02764</td>\n",
       "    </tr>\n",
       "    <tr>\n",
       "      <th>564512</th>\n",
       "      <td>2014-04-30 23:26:00</td>\n",
       "      <td>2</td>\n",
       "      <td>23</td>\n",
       "      <td>26</td>\n",
       "      <td>18</td>\n",
       "      <td>4</td>\n",
       "      <td>2014</td>\n",
       "      <td>40.7629</td>\n",
       "      <td>-73.9672</td>\n",
       "      <td>B02764</td>\n",
       "    </tr>\n",
       "    <tr>\n",
       "      <th>564513</th>\n",
       "      <td>2014-04-30 23:31:00</td>\n",
       "      <td>2</td>\n",
       "      <td>23</td>\n",
       "      <td>31</td>\n",
       "      <td>18</td>\n",
       "      <td>4</td>\n",
       "      <td>2014</td>\n",
       "      <td>40.7443</td>\n",
       "      <td>-73.9889</td>\n",
       "      <td>B02764</td>\n",
       "    </tr>\n",
       "    <tr>\n",
       "      <th>564514</th>\n",
       "      <td>2014-04-30 23:32:00</td>\n",
       "      <td>2</td>\n",
       "      <td>23</td>\n",
       "      <td>32</td>\n",
       "      <td>18</td>\n",
       "      <td>4</td>\n",
       "      <td>2014</td>\n",
       "      <td>40.6756</td>\n",
       "      <td>-73.9405</td>\n",
       "      <td>B02764</td>\n",
       "    </tr>\n",
       "    <tr>\n",
       "      <th>564515</th>\n",
       "      <td>2014-04-30 23:48:00</td>\n",
       "      <td>2</td>\n",
       "      <td>23</td>\n",
       "      <td>48</td>\n",
       "      <td>18</td>\n",
       "      <td>4</td>\n",
       "      <td>2014</td>\n",
       "      <td>40.6880</td>\n",
       "      <td>-73.9608</td>\n",
       "      <td>B02764</td>\n",
       "    </tr>\n",
       "  </tbody>\n",
       "</table>\n",
       "<p>564516 rows × 10 columns</p>\n",
       "</div>"
      ],
      "text/plain": [
       "                 Date/Time  Week_day  Hours  Minutes  Week  Month  Year  \\\n",
       "0      2014-04-01 00:11:00         1      0       11    14      4  2014   \n",
       "1      2014-04-01 00:17:00         1      0       17    14      4  2014   \n",
       "2      2014-04-01 00:21:00         1      0       21    14      4  2014   \n",
       "3      2014-04-01 00:28:00         1      0       28    14      4  2014   \n",
       "4      2014-04-01 00:33:00         1      0       33    14      4  2014   \n",
       "...                    ...       ...    ...      ...   ...    ...   ...   \n",
       "564511 2014-04-30 23:22:00         2     23       22    18      4  2014   \n",
       "564512 2014-04-30 23:26:00         2     23       26    18      4  2014   \n",
       "564513 2014-04-30 23:31:00         2     23       31    18      4  2014   \n",
       "564514 2014-04-30 23:32:00         2     23       32    18      4  2014   \n",
       "564515 2014-04-30 23:48:00         2     23       48    18      4  2014   \n",
       "\n",
       "            Lat      Lon    Base  \n",
       "0       40.7690 -73.9549  B02512  \n",
       "1       40.7267 -74.0345  B02512  \n",
       "2       40.7316 -73.9873  B02512  \n",
       "3       40.7588 -73.9776  B02512  \n",
       "4       40.7594 -73.9722  B02512  \n",
       "...         ...      ...     ...  \n",
       "564511  40.7640 -73.9744  B02764  \n",
       "564512  40.7629 -73.9672  B02764  \n",
       "564513  40.7443 -73.9889  B02764  \n",
       "564514  40.6756 -73.9405  B02764  \n",
       "564515  40.6880 -73.9608  B02764  \n",
       "\n",
       "[564516 rows x 10 columns]"
      ]
     },
     "execution_count": 14,
     "metadata": {},
     "output_type": "execute_result"
    }
   ],
   "source": [
    "# On réorganise l'ordre des colonnes pour un df plus esthétique\n",
    "uber = uber.iloc[:, [0, 7, 8, 9, 4, 6, 5, 1, 2, 3]]\n",
    "uber"
   ]
  },
  {
   "cell_type": "code",
   "execution_count": 15,
   "metadata": {},
   "outputs": [],
   "source": [
    "from sklearn.preprocessing import StandardScaler\n",
    "\n",
    "# Mask réalisé pour une map sur un créneau horaire défini : \n",
    "# D'un samedi 17h à dimanche 10h au mois d'avril\n",
    "# Pour ce faire, nous allons faire une analyse par kmeans pour voir si\n",
    "# la répartition des clusters est plus précise que celle de DBSCAN que l'on\n",
    "# verra par la suite\n",
    "\n",
    "mask1 = ((uber[\"Week_day\"] == 5) & (uber[\"Hours\"] >= 17))\n",
    "mask2 = ((uber[\"Week_day\"] == 6) & (uber[\"Hours\"] <= 10))\n",
    "mask_final = (mask1 | mask2)\n",
    "\n",
    "geo_loc = ['Lat', \"Lon\"]\n",
    "\n",
    "X = uber.loc[mask_final, geo_loc].sample(5000)"
   ]
  },
  {
   "cell_type": "code",
   "execution_count": 16,
   "metadata": {},
   "outputs": [],
   "source": [
    "from sklearn.cluster import KMeans\n",
    "wcss =  []\n",
    "for i in range (1,11): \n",
    "    kmeans = KMeans(n_clusters= i, init = \"k-means++\", random_state = 0)\n",
    "    kmeans.fit(X)\n",
    "    wcss.append(kmeans.inertia_)"
   ]
  },
  {
   "cell_type": "code",
   "execution_count": 17,
   "metadata": {},
   "outputs": [
    {
     "data": {
      "text/plain": [
       "array([1, 2, 3, 4, 5, 6, 0])"
      ]
     },
     "execution_count": 17,
     "metadata": {},
     "output_type": "execute_result"
    }
   ],
   "source": [
    "uber['Week_day'].unique()"
   ]
  },
  {
   "cell_type": "code",
   "execution_count": 18,
   "metadata": {},
   "outputs": [
    {
     "data": {
      "text/html": [
       "<div>\n",
       "<style scoped>\n",
       "    .dataframe tbody tr th:only-of-type {\n",
       "        vertical-align: middle;\n",
       "    }\n",
       "\n",
       "    .dataframe tbody tr th {\n",
       "        vertical-align: top;\n",
       "    }\n",
       "\n",
       "    .dataframe thead th {\n",
       "        text-align: right;\n",
       "    }\n",
       "</style>\n",
       "<table border=\"1\" class=\"dataframe\">\n",
       "  <thead>\n",
       "    <tr style=\"text-align: right;\">\n",
       "      <th></th>\n",
       "      <th>Lat</th>\n",
       "      <th>Lon</th>\n",
       "    </tr>\n",
       "  </thead>\n",
       "  <tbody>\n",
       "    <tr>\n",
       "      <th>99249</th>\n",
       "      <td>40.7239</td>\n",
       "      <td>-73.9851</td>\n",
       "    </tr>\n",
       "    <tr>\n",
       "      <th>134836</th>\n",
       "      <td>40.7314</td>\n",
       "      <td>-73.9888</td>\n",
       "    </tr>\n",
       "    <tr>\n",
       "      <th>60137</th>\n",
       "      <td>40.7786</td>\n",
       "      <td>-73.9821</td>\n",
       "    </tr>\n",
       "    <tr>\n",
       "      <th>308955</th>\n",
       "      <td>40.7422</td>\n",
       "      <td>-73.9972</td>\n",
       "    </tr>\n",
       "    <tr>\n",
       "      <th>421393</th>\n",
       "      <td>40.7275</td>\n",
       "      <td>-73.9907</td>\n",
       "    </tr>\n",
       "    <tr>\n",
       "      <th>...</th>\n",
       "      <td>...</td>\n",
       "      <td>...</td>\n",
       "    </tr>\n",
       "    <tr>\n",
       "      <th>183114</th>\n",
       "      <td>40.6681</td>\n",
       "      <td>-73.9840</td>\n",
       "    </tr>\n",
       "    <tr>\n",
       "      <th>181856</th>\n",
       "      <td>40.6927</td>\n",
       "      <td>-73.9921</td>\n",
       "    </tr>\n",
       "    <tr>\n",
       "      <th>22332</th>\n",
       "      <td>40.7271</td>\n",
       "      <td>-73.9785</td>\n",
       "    </tr>\n",
       "    <tr>\n",
       "      <th>520008</th>\n",
       "      <td>40.7514</td>\n",
       "      <td>-73.9876</td>\n",
       "    </tr>\n",
       "    <tr>\n",
       "      <th>99912</th>\n",
       "      <td>40.6861</td>\n",
       "      <td>-73.9764</td>\n",
       "    </tr>\n",
       "  </tbody>\n",
       "</table>\n",
       "<p>5000 rows × 2 columns</p>\n",
       "</div>"
      ],
      "text/plain": [
       "            Lat      Lon\n",
       "99249   40.7239 -73.9851\n",
       "134836  40.7314 -73.9888\n",
       "60137   40.7786 -73.9821\n",
       "308955  40.7422 -73.9972\n",
       "421393  40.7275 -73.9907\n",
       "...         ...      ...\n",
       "183114  40.6681 -73.9840\n",
       "181856  40.6927 -73.9921\n",
       "22332   40.7271 -73.9785\n",
       "520008  40.7514 -73.9876\n",
       "99912   40.6861 -73.9764\n",
       "\n",
       "[5000 rows x 2 columns]"
      ]
     },
     "execution_count": 18,
     "metadata": {},
     "output_type": "execute_result"
    }
   ],
   "source": [
    "X"
   ]
  },
  {
   "cell_type": "code",
   "execution_count": 19,
   "metadata": {},
   "outputs": [
    {
     "data": {
      "text/html": [
       "<iframe\n",
       "    scrolling=\"no\"\n",
       "    width=\"100%\"\n",
       "    height=\"545px\"\n",
       "    src=\"iframe_figures/figure_16.html\"\n",
       "    frameborder=\"0\"\n",
       "    allowfullscreen\n",
       "></iframe>\n"
      ]
     },
     "metadata": {},
     "output_type": "display_data"
    }
   ],
   "source": [
    "# Create a DataFrame that will be fed to plotly \n",
    "wcss_frame = pd.DataFrame(wcss)\n",
    "\n",
    "# Using Plotly to visualize elbow \n",
    "import plotly.express as px \n",
    "\n",
    "# Creating a line plot\n",
    "fig = px.line(wcss_frame, x=wcss_frame.index, y=wcss_frame.iloc[:, -1])\n",
    "\n",
    "# Creating layouts \n",
    "fig.update_layout(\n",
    "    title=\"Inertia per clusters\",\n",
    "    xaxis_title=\"# clusters\",\n",
    "    yaxis_title=\"Inertia\"\n",
    ")\n",
    "\n",
    "# Render in notebook\n",
    "fig.show(renderer=\"iframe\")"
   ]
  },
  {
   "cell_type": "code",
   "execution_count": 20,
   "metadata": {},
   "outputs": [
    {
     "data": {
      "text/html": [
       "<iframe\n",
       "    scrolling=\"no\"\n",
       "    width=\"100%\"\n",
       "    height=\"545px\"\n",
       "    src=\"iframe_figures/figure_16.html\"\n",
       "    frameborder=\"0\"\n",
       "    allowfullscreen\n",
       "></iframe>\n"
      ]
     },
     "metadata": {},
     "output_type": "display_data"
    }
   ],
   "source": [
    "# Create a DataFrame that will be fed to plotly \n",
    "wcss_frame = pd.DataFrame(wcss)\n",
    "\n",
    "import plotly.express as px \n",
    "\n",
    "# Creating a line plot\n",
    "fig = px.bar(wcss_frame, x=wcss_frame.index, y=wcss_frame.iloc[:, -1])\n",
    "\n",
    "# Creating layouts \n",
    "fig.update_layout(\n",
    "    title=\"Inertia per clusters\",\n",
    "    xaxis_title=\"# clusters\",\n",
    "    yaxis_title=\"Inertia\"\n",
    ")\n",
    "\n",
    "# Render in notebook\n",
    "fig.show(renderer=\"iframe\")"
   ]
  },
  {
   "cell_type": "code",
   "execution_count": 21,
   "metadata": {},
   "outputs": [
    {
     "name": "stdout",
     "output_type": "stream",
     "text": [
      "Silhouette score for K=2 is 0.7380785153058287\n",
      "Silhouette score for K=3 is 0.39217040046961205\n",
      "Silhouette score for K=4 is 0.4530312900199571\n",
      "Silhouette score for K=5 is 0.4643910220202683\n",
      "Silhouette score for K=6 is 0.4666350754357009\n",
      "Silhouette score for K=7 is 0.4812711068624159\n",
      "Silhouette score for K=8 is 0.4870057393088072\n",
      "Silhouette score for K=9 is 0.4121113708605726\n",
      "Silhouette score for K=10 is 0.4128329398940197\n"
     ]
    }
   ],
   "source": [
    "from sklearn.metrics import silhouette_score\n",
    "\n",
    "# Computer mean silhouette score\n",
    "sil = []\n",
    "\n",
    "for i in range (2,11): \n",
    "    kmeans = KMeans(n_clusters= i, init = \"k-means++\", random_state = 0)\n",
    "    kmeans.fit(X)\n",
    "    sil.append(silhouette_score(X, kmeans.predict(X)))\n",
    "    print(\"Silhouette score for K={} is {}\".format(i, sil[-1]))"
   ]
  },
  {
   "cell_type": "code",
   "execution_count": 22,
   "metadata": {},
   "outputs": [
    {
     "data": {
      "text/html": [
       "<iframe\n",
       "    scrolling=\"no\"\n",
       "    width=\"100%\"\n",
       "    height=\"545px\"\n",
       "    src=\"iframe_figures/figure_21.html\"\n",
       "    frameborder=\"0\"\n",
       "    allowfullscreen\n",
       "></iframe>\n"
      ]
     },
     "metadata": {},
     "output_type": "display_data"
    }
   ],
   "source": [
    "# Create a data frame \n",
    "cluster_scores=pd.DataFrame(sil, index=range(2,11))\n",
    "\n",
    "# Create figure\n",
    "fig = px.bar(data_frame=cluster_scores,  \n",
    "             x=cluster_scores.index, \n",
    "             y=cluster_scores.iloc[:, -1]\n",
    "            )\n",
    "\n",
    "# Add title and axis labels\n",
    "fig.update_layout(\n",
    "    yaxis_title=\"Silhouette Score\",\n",
    "    xaxis_title=\"# Clusters\",\n",
    "    title=\"Silhouette Score per cluster\"\n",
    ")\n",
    "\n",
    "# Render\n",
    "fig.show(renderer=\"iframe\")\n",
    "# fig.show(renderer=\"iframe\") if using workspace"
   ]
  },
  {
   "cell_type": "code",
   "execution_count": 23,
   "metadata": {},
   "outputs": [],
   "source": [
    "# Applying KMeans to the Mall dataset\n",
    "kmeans = KMeans(n_clusters= 5, init= \"k-means++\", max_iter=300, n_init = 10, random_state=0)\n",
    "y_kmeans = kmeans.fit_predict(X)"
   ]
  },
  {
   "cell_type": "code",
   "execution_count": 24,
   "metadata": {},
   "outputs": [
    {
     "data": {
      "text/plain": [
       "array([4, 4, 2, ..., 4, 4, 1], dtype=int32)"
      ]
     },
     "execution_count": 24,
     "metadata": {},
     "output_type": "execute_result"
    }
   ],
   "source": [
    "result = kmeans.labels_\n",
    "result"
   ]
  },
  {
   "cell_type": "code",
   "execution_count": 25,
   "metadata": {},
   "outputs": [
    {
     "data": {
      "text/plain": [
       "Index(['Lat', 'Lon'], dtype='object')"
      ]
     },
     "execution_count": 25,
     "metadata": {},
     "output_type": "execute_result"
    }
   ],
   "source": [
    "X.columns"
   ]
  },
  {
   "cell_type": "code",
   "execution_count": 26,
   "metadata": {},
   "outputs": [
    {
     "data": {
      "text/html": [
       "<div>\n",
       "<style scoped>\n",
       "    .dataframe tbody tr th:only-of-type {\n",
       "        vertical-align: middle;\n",
       "    }\n",
       "\n",
       "    .dataframe tbody tr th {\n",
       "        vertical-align: top;\n",
       "    }\n",
       "\n",
       "    .dataframe thead th {\n",
       "        text-align: right;\n",
       "    }\n",
       "</style>\n",
       "<table border=\"1\" class=\"dataframe\">\n",
       "  <thead>\n",
       "    <tr style=\"text-align: right;\">\n",
       "      <th></th>\n",
       "      <th>Lat</th>\n",
       "      <th>Lon</th>\n",
       "      <th>cluster</th>\n",
       "      <th>Hours</th>\n",
       "      <th>Day</th>\n",
       "    </tr>\n",
       "  </thead>\n",
       "  <tbody>\n",
       "    <tr>\n",
       "      <th>99249</th>\n",
       "      <td>40.7239</td>\n",
       "      <td>-73.9851</td>\n",
       "      <td>4</td>\n",
       "      <td>0</td>\n",
       "      <td>6</td>\n",
       "    </tr>\n",
       "    <tr>\n",
       "      <th>134836</th>\n",
       "      <td>40.7314</td>\n",
       "      <td>-73.9888</td>\n",
       "      <td>4</td>\n",
       "      <td>18</td>\n",
       "      <td>5</td>\n",
       "    </tr>\n",
       "    <tr>\n",
       "      <th>60137</th>\n",
       "      <td>40.7786</td>\n",
       "      <td>-73.9821</td>\n",
       "      <td>2</td>\n",
       "      <td>20</td>\n",
       "      <td>5</td>\n",
       "    </tr>\n",
       "    <tr>\n",
       "      <th>308955</th>\n",
       "      <td>40.7422</td>\n",
       "      <td>-73.9972</td>\n",
       "      <td>4</td>\n",
       "      <td>18</td>\n",
       "      <td>5</td>\n",
       "    </tr>\n",
       "    <tr>\n",
       "      <th>421393</th>\n",
       "      <td>40.7275</td>\n",
       "      <td>-73.9907</td>\n",
       "      <td>4</td>\n",
       "      <td>21</td>\n",
       "      <td>5</td>\n",
       "    </tr>\n",
       "  </tbody>\n",
       "</table>\n",
       "</div>"
      ],
      "text/plain": [
       "            Lat      Lon  cluster  Hours  Day\n",
       "99249   40.7239 -73.9851        4      0    6\n",
       "134836  40.7314 -73.9888        4     18    5\n",
       "60137   40.7786 -73.9821        2     20    5\n",
       "308955  40.7422 -73.9972        4     18    5\n",
       "421393  40.7275 -73.9907        4     21    5"
      ]
     },
     "execution_count": 26,
     "metadata": {},
     "output_type": "execute_result"
    }
   ],
   "source": [
    "X[\"cluster\"] = kmeans.labels_\n",
    "X[\"Hours\"] = uber['Hours']\n",
    "X[\"Day\"] = uber['Week_day']\n",
    "\n",
    "X.head()"
   ]
  },
  {
   "cell_type": "code",
   "execution_count": 27,
   "metadata": {},
   "outputs": [
    {
     "data": {
      "text/plain": [
       "array([ 0, 18, 20, 21,  7, 19, 23, 10,  3, 17,  5,  1, 22,  8,  6,  2,  9,\n",
       "        4])"
      ]
     },
     "execution_count": 27,
     "metadata": {},
     "output_type": "execute_result"
    }
   ],
   "source": [
    "X['Hours'].unique()"
   ]
  },
  {
   "cell_type": "code",
   "execution_count": 28,
   "metadata": {},
   "outputs": [
    {
     "data": {
      "text/html": [
       "<iframe\n",
       "    scrolling=\"no\"\n",
       "    width=\"100%\"\n",
       "    height=\"545px\"\n",
       "    src=\"iframe_figures/figure_21.html\"\n",
       "    frameborder=\"0\"\n",
       "    allowfullscreen\n",
       "></iframe>\n"
      ]
     },
     "metadata": {},
     "output_type": "display_data"
    }
   ],
   "source": [
    "fig = px.scatter_mapbox(X.sort_values(by=['Day', 'Hours']), \n",
    "                        lat=\"Lat\", \n",
    "                        lon=\"Lon\", \n",
    "                        animation_frame = 'Hours',\n",
    "                        color=\"cluster\", \n",
    "                        zoom=3.5, \n",
    "                        mapbox_style = \"carto-positron\",\n",
    "                        \n",
    "                    )\n",
    "fig.show('iframe')"
   ]
  },
  {
   "cell_type": "code",
   "execution_count": 29,
   "metadata": {},
   "outputs": [],
   "source": [
    "# Prenons une semaine plus active : celle de l'Independence Day(1st July week) => week27\n",
    "mask_jul = (uber_final['Week'] == 27)\n",
    "\n",
    "X1 = uber_final.loc[mask_jul, ['Lat', \"Lon\"]].sample(5000)"
   ]
  },
  {
   "cell_type": "code",
   "execution_count": 30,
   "metadata": {},
   "outputs": [
    {
     "data": {
      "text/html": [
       "<div>\n",
       "<style scoped>\n",
       "    .dataframe tbody tr th:only-of-type {\n",
       "        vertical-align: middle;\n",
       "    }\n",
       "\n",
       "    .dataframe tbody tr th {\n",
       "        vertical-align: top;\n",
       "    }\n",
       "\n",
       "    .dataframe thead th {\n",
       "        text-align: right;\n",
       "    }\n",
       "</style>\n",
       "<table border=\"1\" class=\"dataframe\">\n",
       "  <thead>\n",
       "    <tr style=\"text-align: right;\">\n",
       "      <th></th>\n",
       "      <th>Lat</th>\n",
       "      <th>Lon</th>\n",
       "    </tr>\n",
       "  </thead>\n",
       "  <tbody>\n",
       "    <tr>\n",
       "      <th>1945806</th>\n",
       "      <td>40.6435</td>\n",
       "      <td>-73.7898</td>\n",
       "    </tr>\n",
       "    <tr>\n",
       "      <th>1871603</th>\n",
       "      <td>40.6737</td>\n",
       "      <td>-73.9418</td>\n",
       "    </tr>\n",
       "    <tr>\n",
       "      <th>2178953</th>\n",
       "      <td>40.7664</td>\n",
       "      <td>-73.9683</td>\n",
       "    </tr>\n",
       "    <tr>\n",
       "      <th>1933723</th>\n",
       "      <td>40.7639</td>\n",
       "      <td>-73.9733</td>\n",
       "    </tr>\n",
       "    <tr>\n",
       "      <th>1486115</th>\n",
       "      <td>40.7473</td>\n",
       "      <td>-73.9856</td>\n",
       "    </tr>\n",
       "    <tr>\n",
       "      <th>...</th>\n",
       "      <td>...</td>\n",
       "      <td>...</td>\n",
       "    </tr>\n",
       "    <tr>\n",
       "      <th>2477889</th>\n",
       "      <td>40.7356</td>\n",
       "      <td>-73.9796</td>\n",
       "    </tr>\n",
       "    <tr>\n",
       "      <th>2187876</th>\n",
       "      <td>40.7282</td>\n",
       "      <td>-73.9820</td>\n",
       "    </tr>\n",
       "    <tr>\n",
       "      <th>2178651</th>\n",
       "      <td>40.7810</td>\n",
       "      <td>-73.9821</td>\n",
       "    </tr>\n",
       "    <tr>\n",
       "      <th>1248906</th>\n",
       "      <td>40.7727</td>\n",
       "      <td>-73.9459</td>\n",
       "    </tr>\n",
       "    <tr>\n",
       "      <th>2195717</th>\n",
       "      <td>40.7220</td>\n",
       "      <td>-73.9873</td>\n",
       "    </tr>\n",
       "  </tbody>\n",
       "</table>\n",
       "<p>5000 rows × 2 columns</p>\n",
       "</div>"
      ],
      "text/plain": [
       "             Lat      Lon\n",
       "1945806  40.6435 -73.7898\n",
       "1871603  40.6737 -73.9418\n",
       "2178953  40.7664 -73.9683\n",
       "1933723  40.7639 -73.9733\n",
       "1486115  40.7473 -73.9856\n",
       "...          ...      ...\n",
       "2477889  40.7356 -73.9796\n",
       "2187876  40.7282 -73.9820\n",
       "2178651  40.7810 -73.9821\n",
       "1248906  40.7727 -73.9459\n",
       "2195717  40.7220 -73.9873\n",
       "\n",
       "[5000 rows x 2 columns]"
      ]
     },
     "execution_count": 30,
     "metadata": {},
     "output_type": "execute_result"
    }
   ],
   "source": [
    "X1"
   ]
  },
  {
   "cell_type": "code",
   "execution_count": 31,
   "metadata": {},
   "outputs": [],
   "source": [
    "wcss1 =  []\n",
    "for i in range (1,11): \n",
    "    kmeans = KMeans(n_clusters= i, init = \"k-means++\", random_state = 0)\n",
    "    kmeans.fit(X1)\n",
    "    wcss1.append(kmeans.inertia_)"
   ]
  },
  {
   "cell_type": "code",
   "execution_count": 32,
   "metadata": {},
   "outputs": [
    {
     "data": {
      "text/html": [
       "<iframe\n",
       "    scrolling=\"no\"\n",
       "    width=\"100%\"\n",
       "    height=\"545px\"\n",
       "    src=\"iframe_figures/figure_31.html\"\n",
       "    frameborder=\"0\"\n",
       "    allowfullscreen\n",
       "></iframe>\n"
      ]
     },
     "metadata": {},
     "output_type": "display_data"
    }
   ],
   "source": [
    "wcss1_frame = pd.DataFrame(wcss1)\n",
    "\n",
    "fig = px.line(wcss_frame, x=wcss1_frame.index, y=wcss1_frame.iloc[:, -1])\n",
    "\n",
    "fig.update_layout(\n",
    "    title=\"Inertia per clusters\",\n",
    "    xaxis_title=\"# clusters\",\n",
    "    yaxis_title=\"Inertia\"\n",
    ")\n",
    "\n",
    "fig.show(renderer=\"iframe\")"
   ]
  },
  {
   "cell_type": "code",
   "execution_count": 33,
   "metadata": {},
   "outputs": [
    {
     "data": {
      "text/html": [
       "<iframe\n",
       "    scrolling=\"no\"\n",
       "    width=\"100%\"\n",
       "    height=\"545px\"\n",
       "    src=\"iframe_figures/figure_31.html\"\n",
       "    frameborder=\"0\"\n",
       "    allowfullscreen\n",
       "></iframe>\n"
      ]
     },
     "metadata": {},
     "output_type": "display_data"
    }
   ],
   "source": [
    "wcss1_frame = pd.DataFrame(wcss1)\n",
    "\n",
    "fig = px.bar(wcss1_frame, x=wcss1_frame.index, y=wcss1_frame.iloc[:, -1])\n",
    "\n",
    "# Creating layouts \n",
    "fig.update_layout(\n",
    "    title=\"Inertia per clusters\",\n",
    "    xaxis_title=\"# clusters\",\n",
    "    yaxis_title=\"Inertia\"\n",
    ")\n",
    "\n",
    "# Render in notebook\n",
    "fig.show(renderer=\"iframe\")"
   ]
  },
  {
   "cell_type": "code",
   "execution_count": 34,
   "metadata": {},
   "outputs": [
    {
     "name": "stdout",
     "output_type": "stream",
     "text": [
      "Silhouette score for K=2 is 0.7273333284266379\n",
      "Silhouette score for K=3 is 0.36265038028405927\n",
      "Silhouette score for K=4 is 0.3926378765177171\n",
      "Silhouette score for K=5 is 0.3978390127432826\n",
      "Silhouette score for K=6 is 0.41581452647446787\n",
      "Silhouette score for K=7 is 0.43847478139044377\n",
      "Silhouette score for K=8 is 0.4419114716417411\n",
      "Silhouette score for K=9 is 0.45066633806093526\n",
      "Silhouette score for K=10 is 0.4679796017282338\n"
     ]
    }
   ],
   "source": [
    "sil1 = []\n",
    "\n",
    "for i in range (2,11): \n",
    "    kmeans1 = KMeans(n_clusters= i, init = \"k-means++\", random_state = 0)\n",
    "    kmeans1.fit(X1)\n",
    "    sil1.append(silhouette_score(X1, kmeans1.predict(X1)))\n",
    "    print(\"Silhouette score for K={} is {}\".format(i, sil1[-1]))"
   ]
  },
  {
   "cell_type": "code",
   "execution_count": 35,
   "metadata": {},
   "outputs": [
    {
     "data": {
      "text/html": [
       "<iframe\n",
       "    scrolling=\"no\"\n",
       "    width=\"100%\"\n",
       "    height=\"545px\"\n",
       "    src=\"iframe_figures/figure_34.html\"\n",
       "    frameborder=\"0\"\n",
       "    allowfullscreen\n",
       "></iframe>\n"
      ]
     },
     "metadata": {},
     "output_type": "display_data"
    }
   ],
   "source": [
    "cluster_scores1 = pd.DataFrame(sil1, index=range(2,11))\n",
    "\n",
    "fig = px.bar(data_frame=cluster_scores1,  \n",
    "             x=cluster_scores1.index, \n",
    "             y=cluster_scores1.iloc[:, -1]\n",
    "            )\n",
    "\n",
    "fig.update_layout(\n",
    "    yaxis_title=\"Silhouette Score\",\n",
    "    xaxis_title=\"# Clusters\",\n",
    "    title=\"Silhouette Score per cluster\"\n",
    ")\n",
    "\n",
    "fig.show(renderer=\"iframe\")"
   ]
  },
  {
   "cell_type": "code",
   "execution_count": 36,
   "metadata": {},
   "outputs": [],
   "source": [
    "kmeans1 = KMeans(n_clusters= 5, init= \"k-means++\", max_iter=300, n_init = 10, random_state=0)\n",
    "y_kmeans1 = kmeans1.fit_predict(X1)"
   ]
  },
  {
   "cell_type": "code",
   "execution_count": 37,
   "metadata": {},
   "outputs": [
    {
     "data": {
      "text/plain": [
       "array([2, 0, 1, ..., 1, 1, 0], dtype=int32)"
      ]
     },
     "execution_count": 37,
     "metadata": {},
     "output_type": "execute_result"
    }
   ],
   "source": [
    "result1 = kmeans1.labels_\n",
    "result1"
   ]
  },
  {
   "cell_type": "code",
   "execution_count": 38,
   "metadata": {},
   "outputs": [
    {
     "data": {
      "text/plain": [
       "Index(['Lat', 'Lon'], dtype='object')"
      ]
     },
     "execution_count": 38,
     "metadata": {},
     "output_type": "execute_result"
    }
   ],
   "source": [
    "X1.columns"
   ]
  },
  {
   "cell_type": "code",
   "execution_count": 39,
   "metadata": {},
   "outputs": [
    {
     "data": {
      "text/html": [
       "<div>\n",
       "<style scoped>\n",
       "    .dataframe tbody tr th:only-of-type {\n",
       "        vertical-align: middle;\n",
       "    }\n",
       "\n",
       "    .dataframe tbody tr th {\n",
       "        vertical-align: top;\n",
       "    }\n",
       "\n",
       "    .dataframe thead th {\n",
       "        text-align: right;\n",
       "    }\n",
       "</style>\n",
       "<table border=\"1\" class=\"dataframe\">\n",
       "  <thead>\n",
       "    <tr style=\"text-align: right;\">\n",
       "      <th></th>\n",
       "      <th>Lat</th>\n",
       "      <th>Lon</th>\n",
       "    </tr>\n",
       "  </thead>\n",
       "  <tbody>\n",
       "    <tr>\n",
       "      <th>1945806</th>\n",
       "      <td>40.6435</td>\n",
       "      <td>-73.7898</td>\n",
       "    </tr>\n",
       "    <tr>\n",
       "      <th>1871603</th>\n",
       "      <td>40.6737</td>\n",
       "      <td>-73.9418</td>\n",
       "    </tr>\n",
       "    <tr>\n",
       "      <th>2178953</th>\n",
       "      <td>40.7664</td>\n",
       "      <td>-73.9683</td>\n",
       "    </tr>\n",
       "    <tr>\n",
       "      <th>1933723</th>\n",
       "      <td>40.7639</td>\n",
       "      <td>-73.9733</td>\n",
       "    </tr>\n",
       "    <tr>\n",
       "      <th>1486115</th>\n",
       "      <td>40.7473</td>\n",
       "      <td>-73.9856</td>\n",
       "    </tr>\n",
       "    <tr>\n",
       "      <th>...</th>\n",
       "      <td>...</td>\n",
       "      <td>...</td>\n",
       "    </tr>\n",
       "    <tr>\n",
       "      <th>2477889</th>\n",
       "      <td>40.7356</td>\n",
       "      <td>-73.9796</td>\n",
       "    </tr>\n",
       "    <tr>\n",
       "      <th>2187876</th>\n",
       "      <td>40.7282</td>\n",
       "      <td>-73.9820</td>\n",
       "    </tr>\n",
       "    <tr>\n",
       "      <th>2178651</th>\n",
       "      <td>40.7810</td>\n",
       "      <td>-73.9821</td>\n",
       "    </tr>\n",
       "    <tr>\n",
       "      <th>1248906</th>\n",
       "      <td>40.7727</td>\n",
       "      <td>-73.9459</td>\n",
       "    </tr>\n",
       "    <tr>\n",
       "      <th>2195717</th>\n",
       "      <td>40.7220</td>\n",
       "      <td>-73.9873</td>\n",
       "    </tr>\n",
       "  </tbody>\n",
       "</table>\n",
       "<p>5000 rows × 2 columns</p>\n",
       "</div>"
      ],
      "text/plain": [
       "             Lat      Lon\n",
       "1945806  40.6435 -73.7898\n",
       "1871603  40.6737 -73.9418\n",
       "2178953  40.7664 -73.9683\n",
       "1933723  40.7639 -73.9733\n",
       "1486115  40.7473 -73.9856\n",
       "...          ...      ...\n",
       "2477889  40.7356 -73.9796\n",
       "2187876  40.7282 -73.9820\n",
       "2178651  40.7810 -73.9821\n",
       "1248906  40.7727 -73.9459\n",
       "2195717  40.7220 -73.9873\n",
       "\n",
       "[5000 rows x 2 columns]"
      ]
     },
     "execution_count": 39,
     "metadata": {},
     "output_type": "execute_result"
    }
   ],
   "source": [
    "X1"
   ]
  },
  {
   "cell_type": "code",
   "execution_count": 40,
   "metadata": {},
   "outputs": [
    {
     "data": {
      "text/html": [
       "<div>\n",
       "<style scoped>\n",
       "    .dataframe tbody tr th:only-of-type {\n",
       "        vertical-align: middle;\n",
       "    }\n",
       "\n",
       "    .dataframe tbody tr th {\n",
       "        vertical-align: top;\n",
       "    }\n",
       "\n",
       "    .dataframe thead th {\n",
       "        text-align: right;\n",
       "    }\n",
       "</style>\n",
       "<table border=\"1\" class=\"dataframe\">\n",
       "  <thead>\n",
       "    <tr style=\"text-align: right;\">\n",
       "      <th></th>\n",
       "      <th>Lat</th>\n",
       "      <th>Lon</th>\n",
       "      <th>cluster</th>\n",
       "      <th>Hours</th>\n",
       "      <th>Day</th>\n",
       "    </tr>\n",
       "  </thead>\n",
       "  <tbody>\n",
       "    <tr>\n",
       "      <th>1945806</th>\n",
       "      <td>40.6435</td>\n",
       "      <td>-73.7898</td>\n",
       "      <td>2</td>\n",
       "      <td>17</td>\n",
       "      <td>5</td>\n",
       "    </tr>\n",
       "    <tr>\n",
       "      <th>1871603</th>\n",
       "      <td>40.6737</td>\n",
       "      <td>-73.9418</td>\n",
       "      <td>0</td>\n",
       "      <td>22</td>\n",
       "      <td>0</td>\n",
       "    </tr>\n",
       "    <tr>\n",
       "      <th>2178953</th>\n",
       "      <td>40.7664</td>\n",
       "      <td>-73.9683</td>\n",
       "      <td>1</td>\n",
       "      <td>11</td>\n",
       "      <td>3</td>\n",
       "    </tr>\n",
       "    <tr>\n",
       "      <th>1933723</th>\n",
       "      <td>40.7639</td>\n",
       "      <td>-73.9733</td>\n",
       "      <td>1</td>\n",
       "      <td>10</td>\n",
       "      <td>3</td>\n",
       "    </tr>\n",
       "    <tr>\n",
       "      <th>1486115</th>\n",
       "      <td>40.7473</td>\n",
       "      <td>-73.9856</td>\n",
       "      <td>0</td>\n",
       "      <td>0</td>\n",
       "      <td>0</td>\n",
       "    </tr>\n",
       "  </tbody>\n",
       "</table>\n",
       "</div>"
      ],
      "text/plain": [
       "             Lat      Lon  cluster  Hours  Day\n",
       "1945806  40.6435 -73.7898        2     17    5\n",
       "1871603  40.6737 -73.9418        0     22    0\n",
       "2178953  40.7664 -73.9683        1     11    3\n",
       "1933723  40.7639 -73.9733        1     10    3\n",
       "1486115  40.7473 -73.9856        0      0    0"
      ]
     },
     "execution_count": 40,
     "metadata": {},
     "output_type": "execute_result"
    }
   ],
   "source": [
    "X1[\"cluster\"] = kmeans1.labels_\n",
    "X1[\"Hours\"] = uber_final['Hours']\n",
    "X1[\"Day\"] = uber_final['Week_day']\n",
    "X1.head()"
   ]
  },
  {
   "cell_type": "code",
   "execution_count": 41,
   "metadata": {},
   "outputs": [
    {
     "data": {
      "text/html": [
       "<iframe\n",
       "    scrolling=\"no\"\n",
       "    width=\"100%\"\n",
       "    height=\"545px\"\n",
       "    src=\"iframe_figures/figure_34.html\"\n",
       "    frameborder=\"0\"\n",
       "    allowfullscreen\n",
       "></iframe>\n"
      ]
     },
     "metadata": {},
     "output_type": "display_data"
    }
   ],
   "source": [
    "fig = px.scatter_mapbox(X1.sort_values(by=['Day', 'Hours']), \n",
    "                        lat=\"Lat\", \n",
    "                        lon=\"Lon\", \n",
    "                        color=\"cluster\",                         \n",
    "                        animation_frame = 'Day',\n",
    "                        zoom=3.5, \n",
    "                        mapbox_style = \"carto-positron\",\n",
    "                        \n",
    "                    )\n",
    "fig.show('iframe')"
   ]
  },
  {
   "cell_type": "code",
   "execution_count": 42,
   "metadata": {},
   "outputs": [],
   "source": [
    "# import DBSCAN from sklearn and numpy\n",
    "from sklearn.cluster import DBSCAN\n",
    "import numpy as np\n",
    "mask_db = (uber_final['Week'] == 27) & (uber_final['Hours'] >=17)\n",
    "geo_loc_db = ['Lat', 'Lon']\n",
    "X_db = uber_final.loc[mask_db, geo_loc_db]#.sample(n=10000)\n",
    "# Instanciate DBSCAN"
   ]
  },
  {
   "cell_type": "code",
   "execution_count": 43,
   "metadata": {},
   "outputs": [
    {
     "data": {
      "text/plain": [
       "DBSCAN(algorithm='brute', eps=0.0012, metric='manhattan', min_samples=145)"
      ]
     },
     "execution_count": 43,
     "metadata": {},
     "output_type": "execute_result"
    }
   ],
   "source": [
    "db = DBSCAN(eps = 0.0012, min_samples = 145, metric = 'manhattan', algorithm = 'brute')\n",
    "# Fit on data\n",
    "## No need to normalize data, it already is!\n",
    "db.fit(X_db)\n"
   ]
  },
  {
   "cell_type": "code",
   "execution_count": 44,
   "metadata": {},
   "outputs": [
    {
     "name": "stdout",
     "output_type": "stream",
     "text": [
      "Nombres de clusters:19\n",
      "Nombres de bruits:43691\n"
     ]
    }
   ],
   "source": [
    "X_db['cluster'] = db.labels_\n",
    "X_db['Day'] = uber_final['Week_day']\n",
    "X_db['Hours'] = uber_final['Hours']\n",
    "labels = db.labels_\n",
    "unique_lab = set(X_db['cluster'])\n",
    "nb_cluster = len(unique_lab)\n",
    "n_noise_ = list(labels).count(-1)\n",
    "\n",
    "print(f'Nombres de clusters:{nb_cluster}')\n",
    "print((f'Nombres de bruits:{n_noise_}'))"
   ]
  },
  {
   "cell_type": "code",
   "execution_count": 45,
   "metadata": {},
   "outputs": [
    {
     "data": {
      "text/html": [
       "<iframe\n",
       "    scrolling=\"no\"\n",
       "    width=\"100%\"\n",
       "    height=\"545px\"\n",
       "    src=\"iframe_figures/figure_42.html\"\n",
       "    frameborder=\"0\"\n",
       "    allowfullscreen\n",
       "></iframe>\n"
      ]
     },
     "metadata": {},
     "output_type": "display_data"
    }
   ],
   "source": [
    "fig = px.scatter_mapbox(X_db.sort_values(by=['Day', 'Hours'])[X_db.cluster != -1],\n",
    "                        lat='Lat',\n",
    "                        lon='Lon',\n",
    "                        color='cluster',\n",
    "                        animation_frame = 'Day',\n",
    "                        zoom=9,\n",
    "                        mapbox_style = 'carto-positron')\n",
    "\n",
    "fig.show(renderer='iframe')"
   ]
  },
  {
   "cell_type": "code",
   "execution_count": 46,
   "metadata": {},
   "outputs": [
    {
     "data": {
      "text/html": [
       "<iframe\n",
       "    scrolling=\"no\"\n",
       "    width=\"100%\"\n",
       "    height=\"545px\"\n",
       "    src=\"iframe_figures/figure_42.html\"\n",
       "    frameborder=\"0\"\n",
       "    allowfullscreen\n",
       "></iframe>\n"
      ]
     },
     "metadata": {},
     "output_type": "display_data"
    }
   ],
   "source": [
    "fig = px.scatter_mapbox(X_db.sort_values(by=['Day', 'Hours'])[X_db.cluster != -1],\n",
    "                        lat='Lat',\n",
    "                        lon='Lon',\n",
    "                        color='cluster',\n",
    "                        animation_frame = 'Hours',\n",
    "                        zoom=9,\n",
    "                        mapbox_style = 'carto-positron')\n",
    "\n",
    "fig.show(renderer='iframe')"
   ]
  },
  {
   "cell_type": "code",
   "execution_count": null,
   "metadata": {},
   "outputs": [],
   "source": []
  },
  {
   "cell_type": "code",
   "execution_count": null,
   "metadata": {},
   "outputs": [],
   "source": []
  }
 ],
 "metadata": {
  "kernelspec": {
   "display_name": "Python 3",
   "language": "python",
   "name": "python3"
  },
  "language_info": {
   "codemirror_mode": {
    "name": "ipython",
    "version": 3
   },
   "file_extension": ".py",
   "mimetype": "text/x-python",
   "name": "python",
   "nbconvert_exporter": "python",
   "pygments_lexer": "ipython3",
   "version": "3.8.6"
  }
 },
 "nbformat": 4,
 "nbformat_minor": 4
}
