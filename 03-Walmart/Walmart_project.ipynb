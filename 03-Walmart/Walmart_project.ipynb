{
 "cells": [
  {
   "cell_type": "markdown",
   "metadata": {},
   "source": [
    "![title](walmart.jpeg)"
   ]
  },
  {
   "cell_type": "markdown",
   "metadata": {},
   "source": [
    "## Project 🚧\n",
    "\n",
    "Walmart's marketing service has asked you to build a machine learning model able to estimate the weekly sales in their stores, with the best precision possible on the predictions made. Such a model would help them understand better how the sales are influenced by economic indicators, and might be used to plan future marketing campaigns.\n",
    "\n",
    "## Goals 🎯\n",
    "\n",
    "The project can be divided into three steps:\n",
    "\n",
    "- Part 1 : make an EDA and all the necessary preprocessings to prepare data for machine learning\n",
    "- Part 2 : train a **linear regression model** (baseline)\n",
    "- Part 3 : avoid overfitting by training a **regularized regression model**"
   ]
  },
  {
   "cell_type": "markdown",
   "metadata": {},
   "source": [
    "# Initialization"
   ]
  },
  {
   "cell_type": "markdown",
   "metadata": {},
   "source": [
    "### Import the different librairies"
   ]
  },
  {
   "cell_type": "code",
   "execution_count": 1,
   "metadata": {},
   "outputs": [],
   "source": [
    "!pip install plotly -q\n",
    "!pip install s3fs -q"
   ]
  },
  {
   "cell_type": "code",
   "execution_count": 124,
   "metadata": {},
   "outputs": [],
   "source": [
    "import pandas as pd\n",
    "import numpy as np\n",
    "from sklearn.model_selection import train_test_split, cross_val_score, GridSearchCV\n",
    "from sklearn.pipeline import Pipeline\n",
    "from sklearn.impute import SimpleImputer\n",
    "from sklearn.preprocessing import  OneHotEncoder, StandardScaler, LabelEncoder\n",
    "from sklearn.compose import ColumnTransformer\n",
    "from sklearn.linear_model import LinearRegression, Ridge\n",
    "from sklearn.metrics import accuracy_score, f1_score, confusion_matrix, roc_curve,r2_score\n",
    "import warnings\n",
    "warnings.filterwarnings(\"ignore\", category=DeprecationWarning) # to avoid deprecation warnings\n",
    "from plotly.subplots import make_subplots\n",
    "import seaborn as sns\n",
    "from plotly.subplots import make_subplots\n",
    "import matplotlib.pyplot as plt\n",
    "import plotly.express as px\n",
    "import plotly.graph_objects as go\n",
    "import plotly.io as pio\n",
    "# setting Jedha color palette as default\n",
    "pio.templates[\"jedha\"] = go.layout.Template(\n",
    "    layout_colorway=[\"#4B9AC7\", \"#4BE8E0\", \"#9DD4F3\", \"#97FBF6\", \"#2A7FAF\", \"#23B1AB\", \"#0E3449\", \"#015955\"]\n",
    ")\n",
    "pio.templates.default = \"jedha\"\n",
    "pio.renderers.default = \"iframe\" # to be replaced by \"iframe\" if working on JULIE"
   ]
  },
  {
   "cell_type": "markdown",
   "metadata": {},
   "source": [
    "### 1. EDA\n",
    "\n",
    "#### A. Basic statistics"
   ]
  },
  {
   "cell_type": "code",
   "execution_count": 125,
   "metadata": {},
   "outputs": [
    {
     "data": {
      "text/html": [
       "<div>\n",
       "<style scoped>\n",
       "    .dataframe tbody tr th:only-of-type {\n",
       "        vertical-align: middle;\n",
       "    }\n",
       "\n",
       "    .dataframe tbody tr th {\n",
       "        vertical-align: top;\n",
       "    }\n",
       "\n",
       "    .dataframe thead th {\n",
       "        text-align: right;\n",
       "    }\n",
       "</style>\n",
       "<table border=\"1\" class=\"dataframe\">\n",
       "  <thead>\n",
       "    <tr style=\"text-align: right;\">\n",
       "      <th></th>\n",
       "      <th>Store</th>\n",
       "      <th>Date</th>\n",
       "      <th>Weekly_Sales</th>\n",
       "      <th>Holiday_Flag</th>\n",
       "      <th>Temperature</th>\n",
       "      <th>Fuel_Price</th>\n",
       "      <th>CPI</th>\n",
       "      <th>Unemployment</th>\n",
       "    </tr>\n",
       "  </thead>\n",
       "  <tbody>\n",
       "    <tr>\n",
       "      <th>0</th>\n",
       "      <td>6.0</td>\n",
       "      <td>18-02-2011</td>\n",
       "      <td>1572117.54</td>\n",
       "      <td>NaN</td>\n",
       "      <td>59.61</td>\n",
       "      <td>3.045</td>\n",
       "      <td>214.777523</td>\n",
       "      <td>6.858</td>\n",
       "    </tr>\n",
       "    <tr>\n",
       "      <th>1</th>\n",
       "      <td>13.0</td>\n",
       "      <td>25-03-2011</td>\n",
       "      <td>1807545.43</td>\n",
       "      <td>0.0</td>\n",
       "      <td>42.38</td>\n",
       "      <td>3.435</td>\n",
       "      <td>128.616064</td>\n",
       "      <td>7.470</td>\n",
       "    </tr>\n",
       "    <tr>\n",
       "      <th>2</th>\n",
       "      <td>17.0</td>\n",
       "      <td>27-07-2012</td>\n",
       "      <td>NaN</td>\n",
       "      <td>0.0</td>\n",
       "      <td>NaN</td>\n",
       "      <td>NaN</td>\n",
       "      <td>130.719581</td>\n",
       "      <td>5.936</td>\n",
       "    </tr>\n",
       "    <tr>\n",
       "      <th>3</th>\n",
       "      <td>11.0</td>\n",
       "      <td>NaN</td>\n",
       "      <td>1244390.03</td>\n",
       "      <td>0.0</td>\n",
       "      <td>84.57</td>\n",
       "      <td>NaN</td>\n",
       "      <td>214.556497</td>\n",
       "      <td>7.346</td>\n",
       "    </tr>\n",
       "    <tr>\n",
       "      <th>4</th>\n",
       "      <td>6.0</td>\n",
       "      <td>28-05-2010</td>\n",
       "      <td>1644470.66</td>\n",
       "      <td>0.0</td>\n",
       "      <td>78.89</td>\n",
       "      <td>2.759</td>\n",
       "      <td>212.412888</td>\n",
       "      <td>7.092</td>\n",
       "    </tr>\n",
       "  </tbody>\n",
       "</table>\n",
       "</div>"
      ],
      "text/plain": [
       "   Store        Date  Weekly_Sales  Holiday_Flag  Temperature  Fuel_Price  \\\n",
       "0    6.0  18-02-2011    1572117.54           NaN        59.61       3.045   \n",
       "1   13.0  25-03-2011    1807545.43           0.0        42.38       3.435   \n",
       "2   17.0  27-07-2012           NaN           0.0          NaN         NaN   \n",
       "3   11.0         NaN    1244390.03           0.0        84.57         NaN   \n",
       "4    6.0  28-05-2010    1644470.66           0.0        78.89       2.759   \n",
       "\n",
       "          CPI  Unemployment  \n",
       "0  214.777523         6.858  \n",
       "1  128.616064         7.470  \n",
       "2  130.719581         5.936  \n",
       "3  214.556497         7.346  \n",
       "4  212.412888         7.092  "
      ]
     },
     "execution_count": 125,
     "metadata": {},
     "output_type": "execute_result"
    }
   ],
   "source": [
    "walmart = pd.read_csv(\"Walmart_Store_sales.csv\")\n",
    "\n",
    "walmart.head()"
   ]
  },
  {
   "cell_type": "code",
   "execution_count": 126,
   "metadata": {},
   "outputs": [
    {
     "data": {
      "text/html": [
       "<div>\n",
       "<style scoped>\n",
       "    .dataframe tbody tr th:only-of-type {\n",
       "        vertical-align: middle;\n",
       "    }\n",
       "\n",
       "    .dataframe tbody tr th {\n",
       "        vertical-align: top;\n",
       "    }\n",
       "\n",
       "    .dataframe thead th {\n",
       "        text-align: right;\n",
       "    }\n",
       "</style>\n",
       "<table border=\"1\" class=\"dataframe\">\n",
       "  <thead>\n",
       "    <tr style=\"text-align: right;\">\n",
       "      <th></th>\n",
       "      <th>Store</th>\n",
       "      <th>Weekly_Sales</th>\n",
       "      <th>Holiday_Flag</th>\n",
       "      <th>Temperature</th>\n",
       "      <th>Fuel_Price</th>\n",
       "      <th>CPI</th>\n",
       "      <th>Unemployment</th>\n",
       "    </tr>\n",
       "  </thead>\n",
       "  <tbody>\n",
       "    <tr>\n",
       "      <th>count</th>\n",
       "      <td>150.000000</td>\n",
       "      <td>1.360000e+02</td>\n",
       "      <td>138.000000</td>\n",
       "      <td>132.000000</td>\n",
       "      <td>136.000000</td>\n",
       "      <td>138.000000</td>\n",
       "      <td>135.000000</td>\n",
       "    </tr>\n",
       "    <tr>\n",
       "      <th>mean</th>\n",
       "      <td>9.866667</td>\n",
       "      <td>1.249536e+06</td>\n",
       "      <td>0.079710</td>\n",
       "      <td>61.398106</td>\n",
       "      <td>3.320853</td>\n",
       "      <td>179.898509</td>\n",
       "      <td>7.598430</td>\n",
       "    </tr>\n",
       "    <tr>\n",
       "      <th>std</th>\n",
       "      <td>6.231191</td>\n",
       "      <td>6.474630e+05</td>\n",
       "      <td>0.271831</td>\n",
       "      <td>18.378901</td>\n",
       "      <td>0.478149</td>\n",
       "      <td>40.274956</td>\n",
       "      <td>1.577173</td>\n",
       "    </tr>\n",
       "    <tr>\n",
       "      <th>min</th>\n",
       "      <td>1.000000</td>\n",
       "      <td>2.689290e+05</td>\n",
       "      <td>0.000000</td>\n",
       "      <td>18.790000</td>\n",
       "      <td>2.514000</td>\n",
       "      <td>126.111903</td>\n",
       "      <td>5.143000</td>\n",
       "    </tr>\n",
       "    <tr>\n",
       "      <th>25%</th>\n",
       "      <td>4.000000</td>\n",
       "      <td>6.050757e+05</td>\n",
       "      <td>0.000000</td>\n",
       "      <td>45.587500</td>\n",
       "      <td>2.852250</td>\n",
       "      <td>131.970831</td>\n",
       "      <td>6.597500</td>\n",
       "    </tr>\n",
       "    <tr>\n",
       "      <th>50%</th>\n",
       "      <td>9.000000</td>\n",
       "      <td>1.261424e+06</td>\n",
       "      <td>0.000000</td>\n",
       "      <td>62.985000</td>\n",
       "      <td>3.451000</td>\n",
       "      <td>197.908893</td>\n",
       "      <td>7.470000</td>\n",
       "    </tr>\n",
       "    <tr>\n",
       "      <th>75%</th>\n",
       "      <td>15.750000</td>\n",
       "      <td>1.806386e+06</td>\n",
       "      <td>0.000000</td>\n",
       "      <td>76.345000</td>\n",
       "      <td>3.706250</td>\n",
       "      <td>214.934616</td>\n",
       "      <td>8.150000</td>\n",
       "    </tr>\n",
       "    <tr>\n",
       "      <th>max</th>\n",
       "      <td>20.000000</td>\n",
       "      <td>2.771397e+06</td>\n",
       "      <td>1.000000</td>\n",
       "      <td>91.650000</td>\n",
       "      <td>4.193000</td>\n",
       "      <td>226.968844</td>\n",
       "      <td>14.313000</td>\n",
       "    </tr>\n",
       "  </tbody>\n",
       "</table>\n",
       "</div>"
      ],
      "text/plain": [
       "            Store  Weekly_Sales  Holiday_Flag  Temperature  Fuel_Price  \\\n",
       "count  150.000000  1.360000e+02    138.000000   132.000000  136.000000   \n",
       "mean     9.866667  1.249536e+06      0.079710    61.398106    3.320853   \n",
       "std      6.231191  6.474630e+05      0.271831    18.378901    0.478149   \n",
       "min      1.000000  2.689290e+05      0.000000    18.790000    2.514000   \n",
       "25%      4.000000  6.050757e+05      0.000000    45.587500    2.852250   \n",
       "50%      9.000000  1.261424e+06      0.000000    62.985000    3.451000   \n",
       "75%     15.750000  1.806386e+06      0.000000    76.345000    3.706250   \n",
       "max     20.000000  2.771397e+06      1.000000    91.650000    4.193000   \n",
       "\n",
       "              CPI  Unemployment  \n",
       "count  138.000000    135.000000  \n",
       "mean   179.898509      7.598430  \n",
       "std     40.274956      1.577173  \n",
       "min    126.111903      5.143000  \n",
       "25%    131.970831      6.597500  \n",
       "50%    197.908893      7.470000  \n",
       "75%    214.934616      8.150000  \n",
       "max    226.968844     14.313000  "
      ]
     },
     "execution_count": 126,
     "metadata": {},
     "output_type": "execute_result"
    }
   ],
   "source": [
    "walmart.describe()"
   ]
  },
  {
   "cell_type": "code",
   "execution_count": 127,
   "metadata": {},
   "outputs": [
    {
     "name": "stdout",
     "output_type": "stream",
     "text": [
      "Number of rows : 150\n",
      "\n",
      "Display of dataset: \n"
     ]
    },
    {
     "data": {
      "text/html": [
       "<div>\n",
       "<style scoped>\n",
       "    .dataframe tbody tr th:only-of-type {\n",
       "        vertical-align: middle;\n",
       "    }\n",
       "\n",
       "    .dataframe tbody tr th {\n",
       "        vertical-align: top;\n",
       "    }\n",
       "\n",
       "    .dataframe thead th {\n",
       "        text-align: right;\n",
       "    }\n",
       "</style>\n",
       "<table border=\"1\" class=\"dataframe\">\n",
       "  <thead>\n",
       "    <tr style=\"text-align: right;\">\n",
       "      <th></th>\n",
       "      <th>Store</th>\n",
       "      <th>Date</th>\n",
       "      <th>Weekly_Sales</th>\n",
       "      <th>Holiday_Flag</th>\n",
       "      <th>Temperature</th>\n",
       "      <th>Fuel_Price</th>\n",
       "      <th>CPI</th>\n",
       "      <th>Unemployment</th>\n",
       "    </tr>\n",
       "  </thead>\n",
       "  <tbody>\n",
       "    <tr>\n",
       "      <th>0</th>\n",
       "      <td>6.0</td>\n",
       "      <td>18-02-2011</td>\n",
       "      <td>1572117.54</td>\n",
       "      <td>NaN</td>\n",
       "      <td>59.61</td>\n",
       "      <td>3.045</td>\n",
       "      <td>214.777523</td>\n",
       "      <td>6.858</td>\n",
       "    </tr>\n",
       "    <tr>\n",
       "      <th>1</th>\n",
       "      <td>13.0</td>\n",
       "      <td>25-03-2011</td>\n",
       "      <td>1807545.43</td>\n",
       "      <td>0.0</td>\n",
       "      <td>42.38</td>\n",
       "      <td>3.435</td>\n",
       "      <td>128.616064</td>\n",
       "      <td>7.470</td>\n",
       "    </tr>\n",
       "    <tr>\n",
       "      <th>2</th>\n",
       "      <td>17.0</td>\n",
       "      <td>27-07-2012</td>\n",
       "      <td>NaN</td>\n",
       "      <td>0.0</td>\n",
       "      <td>NaN</td>\n",
       "      <td>NaN</td>\n",
       "      <td>130.719581</td>\n",
       "      <td>5.936</td>\n",
       "    </tr>\n",
       "    <tr>\n",
       "      <th>3</th>\n",
       "      <td>11.0</td>\n",
       "      <td>NaN</td>\n",
       "      <td>1244390.03</td>\n",
       "      <td>0.0</td>\n",
       "      <td>84.57</td>\n",
       "      <td>NaN</td>\n",
       "      <td>214.556497</td>\n",
       "      <td>7.346</td>\n",
       "    </tr>\n",
       "    <tr>\n",
       "      <th>4</th>\n",
       "      <td>6.0</td>\n",
       "      <td>28-05-2010</td>\n",
       "      <td>1644470.66</td>\n",
       "      <td>0.0</td>\n",
       "      <td>78.89</td>\n",
       "      <td>2.759</td>\n",
       "      <td>212.412888</td>\n",
       "      <td>7.092</td>\n",
       "    </tr>\n",
       "  </tbody>\n",
       "</table>\n",
       "</div>"
      ],
      "text/plain": [
       "   Store        Date  Weekly_Sales  Holiday_Flag  Temperature  Fuel_Price  \\\n",
       "0    6.0  18-02-2011    1572117.54           NaN        59.61       3.045   \n",
       "1   13.0  25-03-2011    1807545.43           0.0        42.38       3.435   \n",
       "2   17.0  27-07-2012           NaN           0.0          NaN         NaN   \n",
       "3   11.0         NaN    1244390.03           0.0        84.57         NaN   \n",
       "4    6.0  28-05-2010    1644470.66           0.0        78.89       2.759   \n",
       "\n",
       "          CPI  Unemployment  \n",
       "0  214.777523         6.858  \n",
       "1  128.616064         7.470  \n",
       "2  130.719581         5.936  \n",
       "3  214.556497         7.346  \n",
       "4  212.412888         7.092  "
      ]
     },
     "metadata": {},
     "output_type": "display_data"
    },
    {
     "name": "stdout",
     "output_type": "stream",
     "text": [
      "\n",
      "Basics statistics: \n"
     ]
    },
    {
     "data": {
      "text/html": [
       "<div>\n",
       "<style scoped>\n",
       "    .dataframe tbody tr th:only-of-type {\n",
       "        vertical-align: middle;\n",
       "    }\n",
       "\n",
       "    .dataframe tbody tr th {\n",
       "        vertical-align: top;\n",
       "    }\n",
       "\n",
       "    .dataframe thead th {\n",
       "        text-align: right;\n",
       "    }\n",
       "</style>\n",
       "<table border=\"1\" class=\"dataframe\">\n",
       "  <thead>\n",
       "    <tr style=\"text-align: right;\">\n",
       "      <th></th>\n",
       "      <th>Store</th>\n",
       "      <th>Date</th>\n",
       "      <th>Weekly_Sales</th>\n",
       "      <th>Holiday_Flag</th>\n",
       "      <th>Temperature</th>\n",
       "      <th>Fuel_Price</th>\n",
       "      <th>CPI</th>\n",
       "      <th>Unemployment</th>\n",
       "    </tr>\n",
       "  </thead>\n",
       "  <tbody>\n",
       "    <tr>\n",
       "      <th>count</th>\n",
       "      <td>150.000000</td>\n",
       "      <td>132</td>\n",
       "      <td>1.360000e+02</td>\n",
       "      <td>138.000000</td>\n",
       "      <td>132.000000</td>\n",
       "      <td>136.000000</td>\n",
       "      <td>138.000000</td>\n",
       "      <td>135.000000</td>\n",
       "    </tr>\n",
       "    <tr>\n",
       "      <th>unique</th>\n",
       "      <td>NaN</td>\n",
       "      <td>85</td>\n",
       "      <td>NaN</td>\n",
       "      <td>NaN</td>\n",
       "      <td>NaN</td>\n",
       "      <td>NaN</td>\n",
       "      <td>NaN</td>\n",
       "      <td>NaN</td>\n",
       "    </tr>\n",
       "    <tr>\n",
       "      <th>top</th>\n",
       "      <td>NaN</td>\n",
       "      <td>19-10-2012</td>\n",
       "      <td>NaN</td>\n",
       "      <td>NaN</td>\n",
       "      <td>NaN</td>\n",
       "      <td>NaN</td>\n",
       "      <td>NaN</td>\n",
       "      <td>NaN</td>\n",
       "    </tr>\n",
       "    <tr>\n",
       "      <th>freq</th>\n",
       "      <td>NaN</td>\n",
       "      <td>4</td>\n",
       "      <td>NaN</td>\n",
       "      <td>NaN</td>\n",
       "      <td>NaN</td>\n",
       "      <td>NaN</td>\n",
       "      <td>NaN</td>\n",
       "      <td>NaN</td>\n",
       "    </tr>\n",
       "    <tr>\n",
       "      <th>mean</th>\n",
       "      <td>9.866667</td>\n",
       "      <td>NaN</td>\n",
       "      <td>1.249536e+06</td>\n",
       "      <td>0.079710</td>\n",
       "      <td>61.398106</td>\n",
       "      <td>3.320853</td>\n",
       "      <td>179.898509</td>\n",
       "      <td>7.598430</td>\n",
       "    </tr>\n",
       "    <tr>\n",
       "      <th>std</th>\n",
       "      <td>6.231191</td>\n",
       "      <td>NaN</td>\n",
       "      <td>6.474630e+05</td>\n",
       "      <td>0.271831</td>\n",
       "      <td>18.378901</td>\n",
       "      <td>0.478149</td>\n",
       "      <td>40.274956</td>\n",
       "      <td>1.577173</td>\n",
       "    </tr>\n",
       "    <tr>\n",
       "      <th>min</th>\n",
       "      <td>1.000000</td>\n",
       "      <td>NaN</td>\n",
       "      <td>2.689290e+05</td>\n",
       "      <td>0.000000</td>\n",
       "      <td>18.790000</td>\n",
       "      <td>2.514000</td>\n",
       "      <td>126.111903</td>\n",
       "      <td>5.143000</td>\n",
       "    </tr>\n",
       "    <tr>\n",
       "      <th>25%</th>\n",
       "      <td>4.000000</td>\n",
       "      <td>NaN</td>\n",
       "      <td>6.050757e+05</td>\n",
       "      <td>0.000000</td>\n",
       "      <td>45.587500</td>\n",
       "      <td>2.852250</td>\n",
       "      <td>131.970831</td>\n",
       "      <td>6.597500</td>\n",
       "    </tr>\n",
       "    <tr>\n",
       "      <th>50%</th>\n",
       "      <td>9.000000</td>\n",
       "      <td>NaN</td>\n",
       "      <td>1.261424e+06</td>\n",
       "      <td>0.000000</td>\n",
       "      <td>62.985000</td>\n",
       "      <td>3.451000</td>\n",
       "      <td>197.908893</td>\n",
       "      <td>7.470000</td>\n",
       "    </tr>\n",
       "    <tr>\n",
       "      <th>75%</th>\n",
       "      <td>15.750000</td>\n",
       "      <td>NaN</td>\n",
       "      <td>1.806386e+06</td>\n",
       "      <td>0.000000</td>\n",
       "      <td>76.345000</td>\n",
       "      <td>3.706250</td>\n",
       "      <td>214.934616</td>\n",
       "      <td>8.150000</td>\n",
       "    </tr>\n",
       "    <tr>\n",
       "      <th>max</th>\n",
       "      <td>20.000000</td>\n",
       "      <td>NaN</td>\n",
       "      <td>2.771397e+06</td>\n",
       "      <td>1.000000</td>\n",
       "      <td>91.650000</td>\n",
       "      <td>4.193000</td>\n",
       "      <td>226.968844</td>\n",
       "      <td>14.313000</td>\n",
       "    </tr>\n",
       "  </tbody>\n",
       "</table>\n",
       "</div>"
      ],
      "text/plain": [
       "             Store        Date  Weekly_Sales  Holiday_Flag  Temperature  \\\n",
       "count   150.000000         132  1.360000e+02    138.000000   132.000000   \n",
       "unique         NaN          85           NaN           NaN          NaN   \n",
       "top            NaN  19-10-2012           NaN           NaN          NaN   \n",
       "freq           NaN           4           NaN           NaN          NaN   \n",
       "mean      9.866667         NaN  1.249536e+06      0.079710    61.398106   \n",
       "std       6.231191         NaN  6.474630e+05      0.271831    18.378901   \n",
       "min       1.000000         NaN  2.689290e+05      0.000000    18.790000   \n",
       "25%       4.000000         NaN  6.050757e+05      0.000000    45.587500   \n",
       "50%       9.000000         NaN  1.261424e+06      0.000000    62.985000   \n",
       "75%      15.750000         NaN  1.806386e+06      0.000000    76.345000   \n",
       "max      20.000000         NaN  2.771397e+06      1.000000    91.650000   \n",
       "\n",
       "        Fuel_Price         CPI  Unemployment  \n",
       "count   136.000000  138.000000    135.000000  \n",
       "unique         NaN         NaN           NaN  \n",
       "top            NaN         NaN           NaN  \n",
       "freq           NaN         NaN           NaN  \n",
       "mean      3.320853  179.898509      7.598430  \n",
       "std       0.478149   40.274956      1.577173  \n",
       "min       2.514000  126.111903      5.143000  \n",
       "25%       2.852250  131.970831      6.597500  \n",
       "50%       3.451000  197.908893      7.470000  \n",
       "75%       3.706250  214.934616      8.150000  \n",
       "max       4.193000  226.968844     14.313000  "
      ]
     },
     "metadata": {},
     "output_type": "display_data"
    },
    {
     "name": "stdout",
     "output_type": "stream",
     "text": [
      "\n",
      "Percentage of missing values: \n"
     ]
    },
    {
     "data": {
      "text/plain": [
       "Store            0.000000\n",
       "Date            12.000000\n",
       "Weekly_Sales     9.333333\n",
       "Holiday_Flag     8.000000\n",
       "Temperature     12.000000\n",
       "Fuel_Price       9.333333\n",
       "CPI              8.000000\n",
       "Unemployment    10.000000\n",
       "dtype: float64"
      ]
     },
     "metadata": {},
     "output_type": "display_data"
    }
   ],
   "source": [
    "# Basic stats\n",
    "print(\"Number of rows : {}\".format(walmart.shape[0]))\n",
    "print()\n",
    "\n",
    "print(\"Display of dataset: \")\n",
    "display(walmart.head())\n",
    "print()\n",
    "\n",
    "print(\"Basics statistics: \")\n",
    "data_desc = walmart.describe(include='all')\n",
    "display(data_desc)\n",
    "print()\n",
    "\n",
    "print(\"Percentage of missing values: \")\n",
    "display(100*walmart.isnull().sum()/walmart.shape[0])"
   ]
  },
  {
   "cell_type": "code",
   "execution_count": 128,
   "metadata": {},
   "outputs": [
    {
     "name": "stdout",
     "output_type": "stream",
     "text": [
      "0      False\n",
      "1      False\n",
      "2       True\n",
      "3      False\n",
      "4      False\n",
      "       ...  \n",
      "145    False\n",
      "146    False\n",
      "147    False\n",
      "148    False\n",
      "149    False\n",
      "Name: Weekly_Sales, Length: 150, dtype: bool\n"
     ]
    }
   ],
   "source": [
    "print(walmart.iloc[:,2].isnull() )\n",
    "index_avec_nan = walmart.index[walmart.iloc[:,2].isnull()]\n",
    "walmart.drop(index_avec_nan,0, inplace=True)"
   ]
  },
  {
   "cell_type": "code",
   "execution_count": 129,
   "metadata": {},
   "outputs": [
    {
     "data": {
      "text/html": [
       "<div>\n",
       "<style scoped>\n",
       "    .dataframe tbody tr th:only-of-type {\n",
       "        vertical-align: middle;\n",
       "    }\n",
       "\n",
       "    .dataframe tbody tr th {\n",
       "        vertical-align: top;\n",
       "    }\n",
       "\n",
       "    .dataframe thead th {\n",
       "        text-align: right;\n",
       "    }\n",
       "</style>\n",
       "<table border=\"1\" class=\"dataframe\">\n",
       "  <thead>\n",
       "    <tr style=\"text-align: right;\">\n",
       "      <th></th>\n",
       "      <th>Store</th>\n",
       "      <th>Date</th>\n",
       "      <th>Weekly_Sales</th>\n",
       "      <th>Holiday_Flag</th>\n",
       "      <th>Temperature</th>\n",
       "      <th>Fuel_Price</th>\n",
       "      <th>CPI</th>\n",
       "      <th>Unemployment</th>\n",
       "    </tr>\n",
       "  </thead>\n",
       "  <tbody>\n",
       "    <tr>\n",
       "      <th>0</th>\n",
       "      <td>6.0</td>\n",
       "      <td>18-02-2011</td>\n",
       "      <td>1572117.54</td>\n",
       "      <td>NaN</td>\n",
       "      <td>59.61</td>\n",
       "      <td>3.045</td>\n",
       "      <td>214.777523</td>\n",
       "      <td>6.858</td>\n",
       "    </tr>\n",
       "    <tr>\n",
       "      <th>1</th>\n",
       "      <td>13.0</td>\n",
       "      <td>25-03-2011</td>\n",
       "      <td>1807545.43</td>\n",
       "      <td>0.0</td>\n",
       "      <td>42.38</td>\n",
       "      <td>3.435</td>\n",
       "      <td>128.616064</td>\n",
       "      <td>7.470</td>\n",
       "    </tr>\n",
       "    <tr>\n",
       "      <th>3</th>\n",
       "      <td>11.0</td>\n",
       "      <td>NaN</td>\n",
       "      <td>1244390.03</td>\n",
       "      <td>0.0</td>\n",
       "      <td>84.57</td>\n",
       "      <td>NaN</td>\n",
       "      <td>214.556497</td>\n",
       "      <td>7.346</td>\n",
       "    </tr>\n",
       "    <tr>\n",
       "      <th>4</th>\n",
       "      <td>6.0</td>\n",
       "      <td>28-05-2010</td>\n",
       "      <td>1644470.66</td>\n",
       "      <td>0.0</td>\n",
       "      <td>78.89</td>\n",
       "      <td>2.759</td>\n",
       "      <td>212.412888</td>\n",
       "      <td>7.092</td>\n",
       "    </tr>\n",
       "    <tr>\n",
       "      <th>5</th>\n",
       "      <td>4.0</td>\n",
       "      <td>28-05-2010</td>\n",
       "      <td>1857533.70</td>\n",
       "      <td>0.0</td>\n",
       "      <td>NaN</td>\n",
       "      <td>2.756</td>\n",
       "      <td>126.160226</td>\n",
       "      <td>7.896</td>\n",
       "    </tr>\n",
       "    <tr>\n",
       "      <th>...</th>\n",
       "      <td>...</td>\n",
       "      <td>...</td>\n",
       "      <td>...</td>\n",
       "      <td>...</td>\n",
       "      <td>...</td>\n",
       "      <td>...</td>\n",
       "      <td>...</td>\n",
       "      <td>...</td>\n",
       "    </tr>\n",
       "    <tr>\n",
       "      <th>145</th>\n",
       "      <td>14.0</td>\n",
       "      <td>18-06-2010</td>\n",
       "      <td>2248645.59</td>\n",
       "      <td>0.0</td>\n",
       "      <td>72.62</td>\n",
       "      <td>2.780</td>\n",
       "      <td>182.442420</td>\n",
       "      <td>8.899</td>\n",
       "    </tr>\n",
       "    <tr>\n",
       "      <th>146</th>\n",
       "      <td>7.0</td>\n",
       "      <td>NaN</td>\n",
       "      <td>716388.81</td>\n",
       "      <td>NaN</td>\n",
       "      <td>20.74</td>\n",
       "      <td>2.778</td>\n",
       "      <td>NaN</td>\n",
       "      <td>NaN</td>\n",
       "    </tr>\n",
       "    <tr>\n",
       "      <th>147</th>\n",
       "      <td>17.0</td>\n",
       "      <td>11-06-2010</td>\n",
       "      <td>845252.21</td>\n",
       "      <td>0.0</td>\n",
       "      <td>57.14</td>\n",
       "      <td>2.841</td>\n",
       "      <td>126.111903</td>\n",
       "      <td>NaN</td>\n",
       "    </tr>\n",
       "    <tr>\n",
       "      <th>148</th>\n",
       "      <td>8.0</td>\n",
       "      <td>12-08-2011</td>\n",
       "      <td>856796.10</td>\n",
       "      <td>0.0</td>\n",
       "      <td>86.05</td>\n",
       "      <td>3.638</td>\n",
       "      <td>219.007525</td>\n",
       "      <td>NaN</td>\n",
       "    </tr>\n",
       "    <tr>\n",
       "      <th>149</th>\n",
       "      <td>19.0</td>\n",
       "      <td>20-04-2012</td>\n",
       "      <td>1255087.26</td>\n",
       "      <td>0.0</td>\n",
       "      <td>55.20</td>\n",
       "      <td>4.170</td>\n",
       "      <td>137.923067</td>\n",
       "      <td>8.150</td>\n",
       "    </tr>\n",
       "  </tbody>\n",
       "</table>\n",
       "<p>136 rows × 8 columns</p>\n",
       "</div>"
      ],
      "text/plain": [
       "     Store        Date  Weekly_Sales  Holiday_Flag  Temperature  Fuel_Price  \\\n",
       "0      6.0  18-02-2011    1572117.54           NaN        59.61       3.045   \n",
       "1     13.0  25-03-2011    1807545.43           0.0        42.38       3.435   \n",
       "3     11.0         NaN    1244390.03           0.0        84.57         NaN   \n",
       "4      6.0  28-05-2010    1644470.66           0.0        78.89       2.759   \n",
       "5      4.0  28-05-2010    1857533.70           0.0          NaN       2.756   \n",
       "..     ...         ...           ...           ...          ...         ...   \n",
       "145   14.0  18-06-2010    2248645.59           0.0        72.62       2.780   \n",
       "146    7.0         NaN     716388.81           NaN        20.74       2.778   \n",
       "147   17.0  11-06-2010     845252.21           0.0        57.14       2.841   \n",
       "148    8.0  12-08-2011     856796.10           0.0        86.05       3.638   \n",
       "149   19.0  20-04-2012    1255087.26           0.0        55.20       4.170   \n",
       "\n",
       "            CPI  Unemployment  \n",
       "0    214.777523         6.858  \n",
       "1    128.616064         7.470  \n",
       "3    214.556497         7.346  \n",
       "4    212.412888         7.092  \n",
       "5    126.160226         7.896  \n",
       "..          ...           ...  \n",
       "145  182.442420         8.899  \n",
       "146         NaN           NaN  \n",
       "147  126.111903           NaN  \n",
       "148  219.007525           NaN  \n",
       "149  137.923067         8.150  \n",
       "\n",
       "[136 rows x 8 columns]"
      ]
     },
     "execution_count": 129,
     "metadata": {},
     "output_type": "execute_result"
    }
   ],
   "source": [
    "walmart"
   ]
  },
  {
   "cell_type": "code",
   "execution_count": 130,
   "metadata": {},
   "outputs": [
    {
     "data": {
      "text/plain": [
       "0      15.338889\n",
       "1       5.766667\n",
       "3      29.205556\n",
       "4      26.050000\n",
       "5            NaN\n",
       "         ...    \n",
       "145    22.566667\n",
       "146    -6.255556\n",
       "147    13.966667\n",
       "148    30.027778\n",
       "149    12.888889\n",
       "Name: Temperature, Length: 136, dtype: float64"
      ]
     },
     "execution_count": 130,
     "metadata": {},
     "output_type": "execute_result"
    }
   ],
   "source": [
    "# Conversion des valeurs de températures en °C => éviter des valeurs trop hautes\n",
    "walmart['Temperature'] = ((walmart['Temperature'])-32)/1.8\n",
    "walmart['Temperature']"
   ]
  },
  {
   "cell_type": "code",
   "execution_count": 131,
   "metadata": {},
   "outputs": [
    {
     "data": {
      "text/plain": [
       "Index(['Store', 'Date', 'Weekly_Sales', 'Holiday_Flag', 'Temperature',\n",
       "       'Fuel_Price', 'CPI', 'Unemployment'],\n",
       "      dtype='object')"
      ]
     },
     "execution_count": 131,
     "metadata": {},
     "output_type": "execute_result"
    }
   ],
   "source": [
    "walmart.columns"
   ]
  },
  {
   "cell_type": "code",
   "execution_count": 132,
   "metadata": {},
   "outputs": [
    {
     "data": {
      "text/plain": [
       "(136, 8)"
      ]
     },
     "execution_count": 132,
     "metadata": {},
     "output_type": "execute_result"
    }
   ],
   "source": [
    "walmart.shape"
   ]
  },
  {
   "cell_type": "code",
   "execution_count": 133,
   "metadata": {},
   "outputs": [
    {
     "name": "stdout",
     "output_type": "stream",
     "text": [
      "Number of lines remaining before treatment:  136\n",
      "Number of lines remaining after treatment (dropna when no dates):  118\n"
     ]
    }
   ],
   "source": [
    "from datetime import datetime\n",
    "\n",
    "print('Number of lines remaining before treatment: ', walmart.shape[0])\n",
    "walmart = walmart.dropna(subset=['Date'])\n",
    "print('Number of lines remaining after treatment (dropna when no dates): ', walmart.shape[0])"
   ]
  },
  {
   "cell_type": "code",
   "execution_count": 134,
   "metadata": {},
   "outputs": [
    {
     "name": "stderr",
     "output_type": "stream",
     "text": [
      "<ipython-input-134-252fe2377842>:1: SettingWithCopyWarning:\n",
      "\n",
      "\n",
      "A value is trying to be set on a copy of a slice from a DataFrame.\n",
      "Try using .loc[row_indexer,col_indexer] = value instead\n",
      "\n",
      "See the caveats in the documentation: https://pandas.pydata.org/pandas-docs/stable/user_guide/indexing.html#returning-a-view-versus-a-copy\n",
      "\n",
      "<ipython-input-134-252fe2377842>:3: SettingWithCopyWarning:\n",
      "\n",
      "\n",
      "A value is trying to be set on a copy of a slice from a DataFrame.\n",
      "Try using .loc[row_indexer,col_indexer] = value instead\n",
      "\n",
      "See the caveats in the documentation: https://pandas.pydata.org/pandas-docs/stable/user_guide/indexing.html#returning-a-view-versus-a-copy\n",
      "\n"
     ]
    }
   ],
   "source": [
    "walmart['Date'] = walmart['Date'].apply(lambda x: datetime.strptime(x, '%d-%m-%Y')  )\n",
    "\n",
    "walmart['Month'] =  walmart['Date'].apply(lambda x: x.strftime(\"%B\") )"
   ]
  },
  {
   "cell_type": "code",
   "execution_count": 135,
   "metadata": {},
   "outputs": [
    {
     "name": "stdout",
     "output_type": "stream",
     "text": [
      "0    1572117.54\n",
      "1    1807545.43\n",
      "4    1644470.66\n",
      "5    1857533.70\n",
      "6     695396.19\n",
      "Name: Weekly_Sales, dtype: float64\n",
      "\n"
     ]
    }
   ],
   "source": [
    "# Separate target variable Y from features X\n",
    "target_variable = 'Weekly_Sales'\n",
    "\n",
    "\n",
    "Y = walmart.loc[:,target_variable]\n",
    "print(Y.head())\n",
    "print()"
   ]
  },
  {
   "cell_type": "markdown",
   "metadata": {},
   "source": [
    "### B. Visualizing the data"
   ]
  },
  {
   "cell_type": "code",
   "execution_count": 136,
   "metadata": {},
   "outputs": [
    {
     "data": {
      "image/png": "[encoded data removed]",
      "text/plain": [
       "<Figure size 432x288 with 1 Axes>"
      ]
     },
     "metadata": {
      "needs_background": "light"
     },
     "output_type": "display_data"
    },
    {
     "data": {
      "image/png": "[encoded data removed]",
      "text/plain": [
       "<Figure size 432x288 with 1 Axes>"
      ]
     },
     "metadata": {
      "needs_background": "light"
     },
     "output_type": "display_data"
    },
    {
     "data": {
      "image/png": "[encoded data removed]",
      "text/plain": [
       "<Figure size 432x288 with 1 Axes>"
      ]
     },
     "metadata": {
      "needs_background": "light"
     },
     "output_type": "display_data"
    },
    {
     "data": {
      "image/png": "[encoded data removed]",
      "text/plain": [
       "<Figure size 432x288 with 1 Axes>"
      ]
     },
     "metadata": {
      "needs_background": "light"
     },
     "output_type": "display_data"
    },
    {
     "data": {
      "image/png": "[encoded data removed]",
      "text/plain": [
       "<Figure size 432x288 with 1 Axes>"
      ]
     },
     "metadata": {
      "needs_background": "light"
     },
     "output_type": "display_data"
    }
   ],
   "source": [
    "def scatter_visu(column):\n",
    "    plt.scatter(x = walmart[column],y = walmart['Weekly_Sales'])\n",
    "    plt.ylabel('Weekly_Sales')\n",
    "    plt.xlabel(column)\n",
    "    plt.show()\n",
    "scatter_visu('Store')\n",
    "scatter_visu('Temperature')\n",
    "scatter_visu('Holiday_Flag')\n",
    "scatter_visu('Fuel_Price')\n",
    "scatter_visu('CPI')"
   ]
  },
  {
   "cell_type": "code",
   "execution_count": 137,
   "metadata": {},
   "outputs": [
    {
     "name": "stderr",
     "output_type": "stream",
     "text": [
      "/opt/conda/lib/python3.8/site-packages/seaborn/distributions.py:2551: FutureWarning:\n",
      "\n",
      "`distplot` is a deprecated function and will be removed in a future version. Please adapt your code to use either `displot` (a figure-level function with similar flexibility) or `histplot` (an axes-level function for histograms).\n",
      "\n"
     ]
    },
    {
     "data": {
      "image/png": "[encoded data removed]",
      "text/plain": [
       "<Figure size 1440x360 with 1 Axes>"
      ]
     },
     "metadata": {
      "needs_background": "light"
     },
     "output_type": "display_data"
    }
   ],
   "source": [
    "plt.figure(figsize=(20,5))\n",
    "sns.distplot(walmart['Weekly_Sales'], bins=40, kde=True, color='skyblue')\n",
    "plt.title('Weekly_Sales distribution')\n",
    "plt.show();"
   ]
  },
  {
   "cell_type": "code",
   "execution_count": 138,
   "metadata": {},
   "outputs": [
    {
     "data": {
      "text/html": [
       "<iframe\n",
       "    scrolling=\"no\"\n",
       "    width=\"100%\"\n",
       "    height=\"545px\"\n",
       "    src=\"iframe_figures/figure_138.html\"\n",
       "    frameborder=\"0\"\n",
       "    allowfullscreen\n",
       "></iframe>\n"
      ]
     },
     "metadata": {},
     "output_type": "display_data"
    }
   ],
   "source": [
    "px.histogram(walmart, x = walmart['Temperature'],y = walmart['Weekly_Sales'])    "
   ]
  },
  {
   "cell_type": "code",
   "execution_count": 139,
   "metadata": {},
   "outputs": [
    {
     "data": {
      "image/png": "[encoded data removed]",
      "text/plain": [
       "<Figure size 1080x720 with 2 Axes>"
      ]
     },
     "metadata": {
      "needs_background": "light"
     },
     "output_type": "display_data"
    }
   ],
   "source": [
    "plt.figure(figsize= (15,10))\n",
    "sns.heatmap(walmart.corr(), annot= True, cmap= 'coolwarm');"
   ]
  },
  {
   "cell_type": "markdown",
   "metadata": {},
   "source": [
    "## We cannot necessarily notice that there are big correlations. But we can anticipate that the CPI will perhaps be important thereafter with a correlation of 60%. "
   ]
  },
  {
   "cell_type": "markdown",
   "metadata": {},
   "source": [
    "# C. Handling lines containing invalid values or outliers¶"
   ]
  },
  {
   "cell_type": "code",
   "execution_count": 140,
   "metadata": {},
   "outputs": [
    {
     "name": "stdout",
     "output_type": "stream",
     "text": [
      "Nombre de ligne 118\n"
     ]
    },
    {
     "data": {
      "text/plain": [
       "Store  Date        Weekly_Sales  Holiday_Flag  Temperature  Fuel_Price  CPI         Unemployment  Month   \n",
       "20.0   2012-02-03  2203523.20    0.0           4.405556     3.617       213.023623  6.961         February    1\n",
       "4.0    2011-12-16  2771397.17    0.0           2.466667     3.149       129.898065  5.143         December    1\n",
       "5.0    2011-05-13  290930.01     0.0           25.211111    3.899       216.534361  6.489         May         1\n",
       "       2011-07-29  275142.17     0.0           31.900000    3.682       216.046436  6.529         July        1\n",
       "       2011-11-11  311906.70     0.0           15.950000    3.297       218.569962  6.300         November    1\n",
       "                                                                                                             ..\n",
       "13.0   2012-06-01  2035431.39    0.0           16.172222    3.788       130.959226  5.965         June        1\n",
       "14.0   2010-06-18  2248645.59    0.0           22.566667    2.780       182.442420  8.899         June        1\n",
       "       2011-07-15  1953544.76    0.0           25.816667    3.760       186.139981  8.625         July        1\n",
       "       2012-02-17  2020550.99    0.0           2.694444     3.695       189.842483  8.424         February    1\n",
       "1.0    2010-02-12  1641957.44    1.0           3.616667     2.548       211.242170  8.106         February    1\n",
       "Length: 75, dtype: int64"
      ]
     },
     "execution_count": 140,
     "metadata": {},
     "output_type": "execute_result"
    }
   ],
   "source": [
    "# Now we will remove all the outliers in our dataframe\n",
    "print('Nombre de ligne',walmart[:].shape [0])\n",
    "mask = True\n",
    "liste_col = ('Temperature','Fuel_Price','CPI')\n",
    "for element in liste_col:\n",
    "    borne_inf = walmart[element].mean() - 3*walmart[element].std()\n",
    "    borne_sup = walmart[element].mean() + 3*walmart[element].std()\n",
    "    mask = ((walmart[element] > borne_inf) | (walmart[element]) < borne_sup)\n",
    "    walmart = walmart.loc[mask,:]\n",
    "walmart.value_counts()"
   ]
  },
  {
   "cell_type": "code",
   "execution_count": 141,
   "metadata": {},
   "outputs": [
    {
     "data": {
      "text/plain": [
       "<seaborn.axisgrid.FacetGrid at 0x7f7128d7fee0>"
      ]
     },
     "execution_count": 141,
     "metadata": {},
     "output_type": "execute_result"
    },
    {
     "data": {
      "image/png": "[encoded data removed]",
      "text/plain": [
       "<Figure size 360x360 with 1 Axes>"
      ]
     },
     "metadata": {
      "needs_background": "light"
     },
     "output_type": "display_data"
    }
   ],
   "source": [
    "# On vérifie si en jour spécial, cela influe sur les ventes.\n",
    "\n",
    "walmart['Holiday_Flag'] = walmart['Holiday_Flag'].apply(lambda x : 1 if x == 1 else 0)\n",
    "\n",
    "sns.catplot(x= walmart['Holiday_Flag'], y = \"Weekly_Sales\", data = walmart, kind=\"bar\")\n",
    "\n"
   ]
  },
  {
   "cell_type": "code",
   "execution_count": 142,
   "metadata": {},
   "outputs": [
    {
     "data": {
      "text/plain": [
       "0       6\n",
       "1      13\n",
       "4       6\n",
       "5       4\n",
       "6      15\n",
       "       ..\n",
       "144     3\n",
       "145    14\n",
       "147    17\n",
       "148     8\n",
       "149    19\n",
       "Name: Store, Length: 118, dtype: int64"
      ]
     },
     "execution_count": 142,
     "metadata": {},
     "output_type": "execute_result"
    }
   ],
   "source": [
    "walmart['Store'] = walmart['Store'].astype(int)\n",
    "walmart['Store']"
   ]
  },
  {
   "cell_type": "code",
   "execution_count": 143,
   "metadata": {},
   "outputs": [
    {
     "data": {
      "text/plain": [
       "<AxesSubplot:xlabel='Store', ylabel='Weekly_Sales'>"
      ]
     },
     "execution_count": 143,
     "metadata": {},
     "output_type": "execute_result"
    },
    {
     "data": {
      "image/png": "[encoded data removed]",
      "text/plain": [
       "<Figure size 432x288 with 1 Axes>"
      ]
     },
     "metadata": {
      "needs_background": "light"
     },
     "output_type": "display_data"
    }
   ],
   "source": [
    "sns.barplot(data=walmart, x='Store', y='Weekly_Sales')"
   ]
  },
  {
   "cell_type": "code",
   "execution_count": 144,
   "metadata": {},
   "outputs": [
    {
     "data": {
      "text/plain": [
       "0       6\n",
       "1      13\n",
       "4       6\n",
       "5       4\n",
       "6      15\n",
       "       ..\n",
       "144     3\n",
       "145    14\n",
       "147    17\n",
       "148     8\n",
       "149    19\n",
       "Name: Store, Length: 118, dtype: int64"
      ]
     },
     "execution_count": 144,
     "metadata": {},
     "output_type": "execute_result"
    }
   ],
   "source": [
    "walmart['Store']"
   ]
  },
  {
   "cell_type": "code",
   "execution_count": 145,
   "metadata": {},
   "outputs": [
    {
     "data": {
      "text/plain": [
       "Index(['Store', 'Date', 'Weekly_Sales', 'Holiday_Flag', 'Temperature',\n",
       "       'Fuel_Price', 'CPI', 'Unemployment', 'Month'],\n",
       "      dtype='object')"
      ]
     },
     "execution_count": 145,
     "metadata": {},
     "output_type": "execute_result"
    }
   ],
   "source": [
    "walmart.columns"
   ]
  },
  {
   "cell_type": "markdown",
   "metadata": {},
   "source": [
    "# 2. Preprocessing & linear regression model"
   ]
  },
  {
   "cell_type": "markdown",
   "metadata": {},
   "source": [
    "#### Firstly, we drop the lines where the date column is null and then create 2 columns :\n",
    "\n",
    "- month in the year\n",
    "- moment in the month"
   ]
  },
  {
   "cell_type": "code",
   "execution_count": 146,
   "metadata": {},
   "outputs": [
    {
     "name": "stdout",
     "output_type": "stream",
     "text": [
      "Number of lines remaining before treatment:  118\n",
      "Number of lines remaining after treatment (dropna when no dates):  118\n"
     ]
    }
   ],
   "source": [
    "\n",
    "print('Number of lines remaining before treatment: ', walmart.shape[0])\n",
    "walmart = walmart.dropna(subset=['Date'])\n",
    "print('Number of lines remaining after treatment (dropna when no dates): ', walmart.shape[0])"
   ]
  },
  {
   "cell_type": "markdown",
   "metadata": {},
   "source": [
    "### A. Separating the X and the Y"
   ]
  },
  {
   "cell_type": "code",
   "execution_count": 147,
   "metadata": {},
   "outputs": [
    {
     "name": "stdout",
     "output_type": "stream",
     "text": [
      "Separating labels from features...\n",
      "...Done.\n",
      "0    1572117.54\n",
      "1    1807545.43\n",
      "4    1644470.66\n",
      "5    1857533.70\n",
      "6     695396.19\n",
      "Name: Weekly_Sales, dtype: float64\n",
      "\n",
      "   Store  Holiday_Flag  Temperature  Fuel_Price         CPI  Unemployment  \\\n",
      "0      6             0    15.338889       3.045  214.777523         6.858   \n",
      "1     13             0     5.766667       3.435  128.616064         7.470   \n",
      "4      6             0    26.050000       2.759  212.412888         7.092   \n",
      "5      4             0          NaN       2.756  126.160226         7.896   \n",
      "6     15             0    21.000000       4.069  134.855161         7.658   \n",
      "\n",
      "      Month  \n",
      "0  February  \n",
      "1     March  \n",
      "4       May  \n",
      "5       May  \n",
      "6      June  \n",
      "\n"
     ]
    }
   ],
   "source": [
    "# Now we drop the Date column\n",
    "walmart = walmart.drop('Date', axis=1)\n",
    "\n",
    "#Now we'll going to preprocess our machine learning\n",
    "\n",
    "# Separate target variable Y from features X\n",
    "target_name = 'Weekly_Sales'\n",
    "\n",
    "print(\"Separating labels from features...\")\n",
    "Y = walmart.loc[:,target_name]\n",
    "X = walmart.loc[:,[c for c in walmart.columns if c!=target_name]] # All columns are kept, except the target\n",
    "print(\"...Done.\")\n",
    "print(Y.head())\n",
    "print()\n",
    "print(X.head())\n",
    "print()"
   ]
  },
  {
   "cell_type": "code",
   "execution_count": 148,
   "metadata": {},
   "outputs": [
    {
     "name": "stdout",
     "output_type": "stream",
     "text": [
      "Dividing into train and test sets...\n",
      "...Done.\n",
      "\n"
     ]
    }
   ],
   "source": [
    "# Divide dataset Train set & Test set \n",
    "# Divide dataset Train set & Test set \n",
    "print(\"Dividing into train and test sets...\")\n",
    "X_train, X_test, Y_train, Y_test = train_test_split(X, Y, test_size=0.2, \n",
    "                                                    random_state=0)\n",
    "print(\"...Done.\")\n",
    "print()"
   ]
  },
  {
   "cell_type": "code",
   "execution_count": 149,
   "metadata": {},
   "outputs": [
    {
     "name": "stdout",
     "output_type": "stream",
     "text": [
      "Convert pandas DataFrames to numpy arrays...\n",
      "...Done\n",
      "[[7 0 10.333333333333334 3.804 197.5886046 8.09 'May']\n",
      " [13 0 24.633333333333333 2.85 nan 7.9510000000000005 'August']\n",
      " [20 0 23.983333333333334 2.8080000000000003 204.5675459 7.856 'June']\n",
      " [12 0 nan 4.087 129.0623548 13.735999999999999 'May']\n",
      " [7 1 -7.3388888888888895 3.103 196.91950559999998 8.256 'February']]\n",
      "[[20 1 -1.7499999999999991 3.179 204.64322669999999 7.484 'December']\n",
      " [18 0 20.622222222222224 2.906 132.2939355 nan 'May']]\n",
      "\n",
      "[532739.77, 1997397.63, 1973135.87, 964332.51, 563460.77]\n",
      "[1799737.79, 1256282.79]\n"
     ]
    }
   ],
   "source": [
    "# Convert pandas DataFrames to numpy arrays before using scikit-learn\n",
    "print(\"Convert pandas DataFrames to numpy arrays...\")\n",
    "X_train = X_train.values\n",
    "X_test = X_test.values\n",
    "Y_train = Y_train.tolist()\n",
    "Y_test = Y_test.tolist()\n",
    "print(\"...Done\")\n",
    "\n",
    "print(X_train[0:5,:])\n",
    "print(X_test[0:2,:])\n",
    "print()\n",
    "print(Y_train[0:5])\n",
    "print(Y_test[0:2])"
   ]
  },
  {
   "cell_type": "code",
   "execution_count": 150,
   "metadata": {},
   "outputs": [],
   "source": [
    "# Automatically detect positions of numeric/categorical features\n",
    "\n",
    "# Create pipeline for numeric features\n",
    "numeric_features = [2,3,4,5]\n",
    "numeric_transformer = Pipeline(steps=[\n",
    "    ('imputer', SimpleImputer(strategy='median')), # missing values will be replaced by columns' median\n",
    "    ('scaler', StandardScaler())\n",
    "])\n",
    "\n",
    "\n",
    "# Create pipeline for categorical features\n",
    "categorical_features = [0,1,6]\n",
    "categorical_transformer = Pipeline(steps=[\n",
    "    ('imputer', SimpleImputer(strategy='most_frequent')), # missing values will be replaced by the mean value\n",
    "    ('encoder', OneHotEncoder(drop='first')) # first column will be dropped to avoid creating correlations between features\n",
    "    ])"
   ]
  },
  {
   "cell_type": "code",
   "execution_count": 151,
   "metadata": {},
   "outputs": [],
   "source": [
    "# Use ColumnTransformer to make a preprocessor object that describes all the treatments to be done\n",
    "preprocessor = ColumnTransformer(\n",
    "    transformers=[\n",
    "        ('num', numeric_transformer, numeric_features),\n",
    "        ('cat', categorical_transformer, categorical_features)\n",
    "    ])"
   ]
  },
  {
   "cell_type": "code",
   "execution_count": 152,
   "metadata": {},
   "outputs": [
    {
     "name": "stdout",
     "output_type": "stream",
     "text": [
      "Performing preprocessings on train set...\n",
      "[[7 0 10.333333333333334 3.804 197.5886046 8.09 'May']\n",
      " [13 0 24.633333333333333 2.85 nan 7.9510000000000005 'August']\n",
      " [20 0 23.983333333333334 2.8080000000000003 204.5675459 7.856 'June']\n",
      " [12 0 nan 4.087 129.0623548 13.735999999999999 'May']\n",
      " [7 1 -7.3388888888888895 3.103 196.91950559999998 8.256 'February']]\n",
      "...Done.\n",
      "[[-0.63873307  1.16941918  0.53029692  0.22096906  0.          0.\n",
      "   0.          0.          0.          1.          0.          0.\n",
      "   0.          0.          0.          0.          0.          0.\n",
      "   0.          0.          0.          0.          0.          0.\n",
      "   0.          0.          0.          0.          0.          0.\n",
      "   0.          1.          0.          0.          0.        ]\n",
      " [ 0.85116175 -0.90723252  0.40751084  0.14043625  0.          0.\n",
      "   0.          0.          0.          0.          0.          0.\n",
      "   0.          0.          0.          1.          0.          0.\n",
      "   0.          0.          0.          0.          0.          0.\n",
      "   1.          0.          0.          0.          0.          0.\n",
      "   0.          0.          0.          0.          0.        ]\n",
      " [ 0.78343925 -0.99865744  0.71022563  0.08539584  0.          0.\n",
      "   0.          0.          0.          0.          0.          0.\n",
      "   0.          0.          0.          0.          0.          0.\n",
      "   0.          0.          0.          0.          1.          0.\n",
      "   0.          0.          0.          0.          0.          1.\n",
      "   0.          0.          0.          0.          0.        ]\n",
      " [ 0.02228475  1.78544898 -1.23642374  3.49210747  0.          0.\n",
      "   0.          0.          0.          0.          0.          0.\n",
      "   0.          0.          1.          0.          0.          0.\n",
      "   0.          0.          0.          0.          0.          0.\n",
      "   0.          0.          0.          0.          0.          0.\n",
      "   0.          1.          0.          0.          0.        ]\n",
      " [-2.4799745  -0.35650623  0.51304644  0.31714493  0.          0.\n",
      "   0.          0.          0.          1.          0.          0.\n",
      "   0.          0.          0.          0.          0.          0.\n",
      "   0.          0.          0.          0.          0.          1.\n",
      "   0.          0.          1.          0.          0.          0.\n",
      "   0.          0.          0.          0.          0.        ]]\n",
      "\n",
      "Performing preprocessings on test set...\n",
      "[[20 1 -1.7499999999999991 3.179 204.64322669999999 7.484 'December']\n",
      " [18 0 20.622222222222224 2.906 132.2939355 nan 'May']\n",
      " [14 0 1.288888888888889 3.193 182.59830580000002 nan 'January']\n",
      " [18 0 11.122222222222224 2.878 132.7633548 9.331 'October']\n",
      " [13 0 0.39444444444444493 nan 130.27922579999998 6.104 'January']]\n",
      "...Done.\n",
      "[[-1.89767683 -0.19107067  0.71217681 -0.13013081  0.          0.\n",
      "   0.          0.          0.          0.          0.          0.\n",
      "   0.          0.          0.          0.          0.          0.\n",
      "   0.          0.          0.          0.          1.          1.\n",
      "   0.          1.          0.          0.          0.          0.\n",
      "   0.          0.          0.          0.          0.        ]\n",
      " [ 0.4332503  -0.78533263 -1.15310822 -0.10521779  0.          0.\n",
      "   0.          0.          0.          0.          0.          0.\n",
      "   0.          0.          0.          0.          0.          0.\n",
      "   0.          0.          1.          0.          0.          0.\n",
      "   0.          0.          0.          0.          0.          0.\n",
      "   0.          1.          0.          0.          0.        ]\n",
      " [-1.58105971 -0.16059569  0.14382209 -0.10521779  0.          0.\n",
      "   0.          0.          0.          0.          0.          0.\n",
      "   0.          0.          0.          0.          1.          0.\n",
      "   0.          0.          0.          0.          0.          0.\n",
      "   0.          0.          0.          1.          0.          0.\n",
      "   0.          0.          0.          0.          0.        ]\n",
      " [-0.55653997 -0.84628258 -1.14100581  0.93997061  0.          0.\n",
      "   0.          0.          0.          0.          0.          0.\n",
      "   0.          0.          0.          0.          0.          0.\n",
      "   0.          0.          1.          0.          0.          0.\n",
      "   0.          0.          0.          0.          0.          0.\n",
      "   0.          0.          0.          1.          0.        ]\n",
      " [-1.67425049  0.05272911 -1.20505078 -0.92966517  0.          0.\n",
      "   0.          0.          0.          0.          0.          0.\n",
      "   0.          0.          0.          1.          0.          0.\n",
      "   0.          0.          0.          0.          0.          0.\n",
      "   0.          0.          0.          1.          0.          0.\n",
      "   0.          0.          0.          0.          0.        ]]\n",
      "\n"
     ]
    }
   ],
   "source": [
    "# Preprocessings on train set\n",
    "print(\"Performing preprocessings on train set...\")\n",
    "print(X_train[0:5,:])\n",
    "X_train = preprocessor.fit_transform(X_train)\n",
    "X_train = X_train.todense()\n",
    "print('...Done.')\n",
    "print(X_train[0:5,:])\n",
    "print()\n",
    "\n",
    "# Preprocessings on test set\n",
    "print(\"Performing preprocessings on test set...\")\n",
    "print(X_test[0:5,:])\n",
    "X_test = preprocessor.transform(X_test)\n",
    "X_test = X_test.todense()\n",
    "# Don't fit again !! The test set is used for validating decisions\n",
    "# we made based on the training set, therefore we can only apply transformations that were parametered using the training set.\n",
    "# Otherwise this creates what is called a leak from the test set which will introduce a bias in all your results.\n",
    "print('...Done.')\n",
    "print(X_test[0:5,:])\n",
    "print()"
   ]
  },
  {
   "cell_type": "markdown",
   "metadata": {},
   "source": [
    "### B. First model : linear regression"
   ]
  },
  {
   "cell_type": "code",
   "execution_count": 153,
   "metadata": {},
   "outputs": [
    {
     "name": "stdout",
     "output_type": "stream",
     "text": [
      "Train model...\n",
      "...Done.\n"
     ]
    }
   ],
   "source": [
    "# Train model\n",
    "print(\"Train model...\")\n",
    "linear = LinearRegression()\n",
    "linear.fit(X_train, Y_train)\n",
    "print(\"...Done.\")"
   ]
  },
  {
   "cell_type": "markdown",
   "metadata": {},
   "source": [
    "#### Prediction"
   ]
  },
  {
   "cell_type": "code",
   "execution_count": 154,
   "metadata": {},
   "outputs": [
    {
     "name": "stdout",
     "output_type": "stream",
     "text": [
      "Predictions on training set...\n",
      "...Done.\n",
      "[ 531940.21104229 1981846.83937932 2003600.46185408  924591.17011936\n",
      "  631150.20341501  446691.45949539 2087006.51050049  834605.8303444\n",
      "  317432.49951742 2429747.09991975 1906376.44180582  823843.63670344\n",
      " 2613895.75327703 1138974.36495969 1496124.47747069 1757242.51\n",
      "  430383.80670428  948323.66785704 1484646.81415225 1801375.38437557\n",
      " 2142320.70461655 1373324.50750577  822194.34579724 1572938.17744369\n",
      "  893743.88920384  525271.88919922  431302.6798891  1576366.48055809\n",
      " 1899341.22429093  516152.09316554 2066815.48341548  539319.71360571\n",
      "  657009.83079876  491230.39987202 1113286.71448222 1845246.79221636\n",
      " 1530009.57399117  284688.58988523 2054483.14597548 1400312.69294912\n",
      " 1526302.15750921 1908263.11217044 1605246.18408049  521439.53978794\n",
      " 1390319.99159045 2575011.82501503  559396.8796876   839878.09559645\n",
      " 2045596.74734763  537804.34228935  444833.75012176  705643.19980616\n",
      "  565114.64660635  315338.51422049  425316.12484303 2409229.83793582\n",
      "  251876.44637687 1397032.36764025  289542.96466571 1570216.76455352\n",
      " 1431539.16770333  828522.12233031  835883.75509512 1848741.35511769\n",
      "  415032.80216196 2448098.53034517  890454.54127919  374318.67942853\n",
      " 2024744.46726002 1924150.2736738   920287.37614131 1980179.90433237\n",
      "  457893.51780794  826487.43499679 1917920.94340807 2035786.93534479\n",
      " 1432147.48526655 1530758.90752907 1001189.92158637 1540100.30385678\n",
      " 2031683.42014155 1980359.80261413  502200.46977992 1440824.12614141\n",
      " 1591183.34356538  318217.40488231 2060766.27097218  501509.13361833\n",
      " 1986779.06105131 2067374.76337373  527611.64841063  564193.13939508\n",
      " 1904491.10826942  459933.1395201 ]\n",
      "\n",
      "Predictions on test set...\n",
      "...Done.\n",
      "[2525462.31071251 1202993.09448919 2021189.03015708 1071886.15144853\n",
      " 1942474.38340374  570785.23953029  913136.0977553  1474908.95417306\n",
      " 1993824.42225841 1792089.74511728 1108924.10646903  283231.99492534\n",
      " 1553066.87584828 2024743.64138008 1380432.59602309 1511005.56923489\n",
      " 1066748.15612019 1920418.45817446  988084.71770285  183169.98563212\n",
      " 1497400.28341337 2028565.44020736  248657.7683639  1602448.59316486]\n",
      "\n"
     ]
    }
   ],
   "source": [
    "# Predictions on training set\n",
    "print(\"Predictions on training set...\")\n",
    "Y_train_pred = linear.predict(X_train)\n",
    "print(\"...Done.\")\n",
    "print(Y_train_pred)\n",
    "print()\n",
    "\n",
    "# Predictions on test set\n",
    "print(\"Predictions on test set...\")\n",
    "Y_test_pred = linear.predict(X_test)\n",
    "print(\"...Done.\")\n",
    "print(Y_test_pred)\n",
    "print()"
   ]
  },
  {
   "cell_type": "code",
   "execution_count": 155,
   "metadata": {},
   "outputs": [
    {
     "name": "stdout",
     "output_type": "stream",
     "text": [
      "R2 score on training set :  0.9901455538274847\n",
      "R2 score on test set :  0.8991665820801145\n"
     ]
    }
   ],
   "source": [
    "# Print R^2 scores\n",
    "print(\"R2 score on training set : \", r2_score(Y_train, Y_train_pred))\n",
    "print(\"R2 score on test set : \", r2_score(Y_test, Y_test_pred))"
   ]
  },
  {
   "cell_type": "markdown",
   "metadata": {},
   "source": [
    "#  \n",
    "#### Le modèle est plutôt bon : pas de sur-apprentissage, et le score R2 est significativement bon. \n",
    "#### Voyons maintenant les coefficients"
   ]
  },
  {
   "cell_type": "code",
   "execution_count": 156,
   "metadata": {},
   "outputs": [
    {
     "name": "stdout",
     "output_type": "stream",
     "text": [
      "\n",
      "The coefficients:\n",
      " [-3.53993179e+03 -1.29813640e+04  2.64913322e+03 -1.16267375e+05\n",
      "  3.93200158e+05 -1.15040170e+06  4.01664194e+05 -1.32155976e+06\n",
      " -8.15407716e+03 -9.37308241e+05 -7.26112156e+05 -1.10862469e+06\n",
      "  3.92516995e+05  1.48006792e+05 -1.49313462e+05  4.25944061e+05\n",
      "  5.94502340e+05 -8.60362594e+05 -1.01677381e+06 -7.34371981e+05\n",
      " -3.21301278e+05 -5.50315549e+04  4.60271903e+05  4.37250737e+04\n",
      "  7.03152613e+04  5.03178651e+05  5.47689146e+04 -8.56813636e+04\n",
      "  1.66642237e+04  4.91131530e+04 -3.06337582e+04  1.43826430e+04\n",
      "  4.77661421e+04  4.69947109e+02 -5.51243994e+04] LinearRegression()\n",
      "---\n",
      "\n",
      "The Mean Squarred Error on test set:\n",
      " 31515966966.92596\n",
      "It means that we predict the test Weekly_sales with a mean error of 177527 dollars \n"
     ]
    }
   ],
   "source": [
    "from sklearn.metrics import mean_squared_error\n",
    "\n",
    "#The different coefficients\n",
    "print (\"\\nThe coefficients:\\n\", linear.coef_,linear)\n",
    "print('---')\n",
    "# The mean squarred error\n",
    "print (\"\\nThe Mean Squarred Error on test set:\\n\", mean_squared_error(Y_test, Y_test_pred))\n",
    "print('It means that we predict the test Weekly_sales with a mean error of {} dollars '.format(int(mean_squared_error(Y_test, Y_test_pred)**0.5)))"
   ]
  },
  {
   "cell_type": "code",
   "execution_count": 157,
   "metadata": {},
   "outputs": [
    {
     "data": {
      "text/html": [
       "<div>\n",
       "<style scoped>\n",
       "    .dataframe tbody tr th:only-of-type {\n",
       "        vertical-align: middle;\n",
       "    }\n",
       "\n",
       "    .dataframe tbody tr th {\n",
       "        vertical-align: top;\n",
       "    }\n",
       "\n",
       "    .dataframe thead th {\n",
       "        text-align: right;\n",
       "    }\n",
       "</style>\n",
       "<table border=\"1\" class=\"dataframe\">\n",
       "  <thead>\n",
       "    <tr style=\"text-align: right;\">\n",
       "      <th></th>\n",
       "      <th>features</th>\n",
       "      <th>coefficient</th>\n",
       "    </tr>\n",
       "  </thead>\n",
       "  <tbody>\n",
       "    <tr>\n",
       "      <th>0</th>\n",
       "      <td>x0_2</td>\n",
       "      <td>-3.539932e+03</td>\n",
       "    </tr>\n",
       "    <tr>\n",
       "      <th>1</th>\n",
       "      <td>x0_3</td>\n",
       "      <td>-1.298136e+04</td>\n",
       "    </tr>\n",
       "    <tr>\n",
       "      <th>2</th>\n",
       "      <td>x0_4</td>\n",
       "      <td>2.649133e+03</td>\n",
       "    </tr>\n",
       "    <tr>\n",
       "      <th>3</th>\n",
       "      <td>x0_5</td>\n",
       "      <td>-1.162674e+05</td>\n",
       "    </tr>\n",
       "    <tr>\n",
       "      <th>4</th>\n",
       "      <td>x0_6</td>\n",
       "      <td>3.932002e+05</td>\n",
       "    </tr>\n",
       "    <tr>\n",
       "      <th>5</th>\n",
       "      <td>x0_7</td>\n",
       "      <td>-1.150402e+06</td>\n",
       "    </tr>\n",
       "    <tr>\n",
       "      <th>6</th>\n",
       "      <td>x0_8</td>\n",
       "      <td>4.016642e+05</td>\n",
       "    </tr>\n",
       "    <tr>\n",
       "      <th>7</th>\n",
       "      <td>x0_9</td>\n",
       "      <td>-1.321560e+06</td>\n",
       "    </tr>\n",
       "    <tr>\n",
       "      <th>8</th>\n",
       "      <td>x0_10</td>\n",
       "      <td>-8.154077e+03</td>\n",
       "    </tr>\n",
       "    <tr>\n",
       "      <th>9</th>\n",
       "      <td>x0_11</td>\n",
       "      <td>-9.373082e+05</td>\n",
       "    </tr>\n",
       "    <tr>\n",
       "      <th>10</th>\n",
       "      <td>x0_12</td>\n",
       "      <td>-7.261122e+05</td>\n",
       "    </tr>\n",
       "    <tr>\n",
       "      <th>11</th>\n",
       "      <td>x0_13</td>\n",
       "      <td>-1.108625e+06</td>\n",
       "    </tr>\n",
       "    <tr>\n",
       "      <th>12</th>\n",
       "      <td>x0_14</td>\n",
       "      <td>3.925170e+05</td>\n",
       "    </tr>\n",
       "    <tr>\n",
       "      <th>13</th>\n",
       "      <td>x0_15</td>\n",
       "      <td>1.480068e+05</td>\n",
       "    </tr>\n",
       "    <tr>\n",
       "      <th>14</th>\n",
       "      <td>x0_16</td>\n",
       "      <td>-1.493135e+05</td>\n",
       "    </tr>\n",
       "    <tr>\n",
       "      <th>15</th>\n",
       "      <td>x0_17</td>\n",
       "      <td>4.259441e+05</td>\n",
       "    </tr>\n",
       "    <tr>\n",
       "      <th>16</th>\n",
       "      <td>x0_18</td>\n",
       "      <td>5.945023e+05</td>\n",
       "    </tr>\n",
       "    <tr>\n",
       "      <th>17</th>\n",
       "      <td>x0_19</td>\n",
       "      <td>-8.603626e+05</td>\n",
       "    </tr>\n",
       "    <tr>\n",
       "      <th>18</th>\n",
       "      <td>x0_20</td>\n",
       "      <td>-1.016774e+06</td>\n",
       "    </tr>\n",
       "    <tr>\n",
       "      <th>19</th>\n",
       "      <td>x1_1</td>\n",
       "      <td>-7.343720e+05</td>\n",
       "    </tr>\n",
       "    <tr>\n",
       "      <th>20</th>\n",
       "      <td>x2_August</td>\n",
       "      <td>-3.213013e+05</td>\n",
       "    </tr>\n",
       "    <tr>\n",
       "      <th>21</th>\n",
       "      <td>x2_December</td>\n",
       "      <td>-5.503155e+04</td>\n",
       "    </tr>\n",
       "    <tr>\n",
       "      <th>22</th>\n",
       "      <td>x2_February</td>\n",
       "      <td>4.602719e+05</td>\n",
       "    </tr>\n",
       "    <tr>\n",
       "      <th>23</th>\n",
       "      <td>x2_January</td>\n",
       "      <td>4.372507e+04</td>\n",
       "    </tr>\n",
       "    <tr>\n",
       "      <th>24</th>\n",
       "      <td>x2_July</td>\n",
       "      <td>7.031526e+04</td>\n",
       "    </tr>\n",
       "    <tr>\n",
       "      <th>25</th>\n",
       "      <td>x2_June</td>\n",
       "      <td>5.031787e+05</td>\n",
       "    </tr>\n",
       "    <tr>\n",
       "      <th>26</th>\n",
       "      <td>x2_March</td>\n",
       "      <td>5.476891e+04</td>\n",
       "    </tr>\n",
       "    <tr>\n",
       "      <th>27</th>\n",
       "      <td>x2_May</td>\n",
       "      <td>-8.568136e+04</td>\n",
       "    </tr>\n",
       "    <tr>\n",
       "      <th>28</th>\n",
       "      <td>x2_November</td>\n",
       "      <td>1.666422e+04</td>\n",
       "    </tr>\n",
       "    <tr>\n",
       "      <th>29</th>\n",
       "      <td>x2_October</td>\n",
       "      <td>4.911315e+04</td>\n",
       "    </tr>\n",
       "    <tr>\n",
       "      <th>30</th>\n",
       "      <td>x2_September</td>\n",
       "      <td>-3.063376e+04</td>\n",
       "    </tr>\n",
       "    <tr>\n",
       "      <th>31</th>\n",
       "      <td>Temperature</td>\n",
       "      <td>1.438264e+04</td>\n",
       "    </tr>\n",
       "    <tr>\n",
       "      <th>32</th>\n",
       "      <td>Fuel_Price</td>\n",
       "      <td>4.776614e+04</td>\n",
       "    </tr>\n",
       "    <tr>\n",
       "      <th>33</th>\n",
       "      <td>CPI</td>\n",
       "      <td>4.699471e+02</td>\n",
       "    </tr>\n",
       "    <tr>\n",
       "      <th>34</th>\n",
       "      <td>Unemployment</td>\n",
       "      <td>-5.512440e+04</td>\n",
       "    </tr>\n",
       "  </tbody>\n",
       "</table>\n",
       "</div>"
      ],
      "text/plain": [
       "        features   coefficient\n",
       "0           x0_2 -3.539932e+03\n",
       "1           x0_3 -1.298136e+04\n",
       "2           x0_4  2.649133e+03\n",
       "3           x0_5 -1.162674e+05\n",
       "4           x0_6  3.932002e+05\n",
       "5           x0_7 -1.150402e+06\n",
       "6           x0_8  4.016642e+05\n",
       "7           x0_9 -1.321560e+06\n",
       "8          x0_10 -8.154077e+03\n",
       "9          x0_11 -9.373082e+05\n",
       "10         x0_12 -7.261122e+05\n",
       "11         x0_13 -1.108625e+06\n",
       "12         x0_14  3.925170e+05\n",
       "13         x0_15  1.480068e+05\n",
       "14         x0_16 -1.493135e+05\n",
       "15         x0_17  4.259441e+05\n",
       "16         x0_18  5.945023e+05\n",
       "17         x0_19 -8.603626e+05\n",
       "18         x0_20 -1.016774e+06\n",
       "19          x1_1 -7.343720e+05\n",
       "20     x2_August -3.213013e+05\n",
       "21   x2_December -5.503155e+04\n",
       "22   x2_February  4.602719e+05\n",
       "23    x2_January  4.372507e+04\n",
       "24       x2_July  7.031526e+04\n",
       "25       x2_June  5.031787e+05\n",
       "26      x2_March  5.476891e+04\n",
       "27        x2_May -8.568136e+04\n",
       "28   x2_November  1.666422e+04\n",
       "29    x2_October  4.911315e+04\n",
       "30  x2_September -3.063376e+04\n",
       "31   Temperature  1.438264e+04\n",
       "32    Fuel_Price  4.776614e+04\n",
       "33           CPI  4.699471e+02\n",
       "34  Unemployment -5.512440e+04"
      ]
     },
     "execution_count": 157,
     "metadata": {},
     "output_type": "execute_result"
    }
   ],
   "source": [
    "features = list(preprocessor.transformers_[1][1]['encoder'].get_feature_names())\n",
    "features\n",
    "numeric = ['Temperature','Fuel_Price','CPI','Unemployment']\n",
    "Z = features + numeric\n",
    "Z = pd.DataFrame(Z, columns=['features'])\n",
    "coef = pd.DataFrame(linear.coef_,columns=['coefficient'])\n",
    "coeff = pd.concat([Z,coef],axis=1)\n",
    "coeff.groupby(['coefficient']).sort\n",
    "coeff"
   ]
  },
  {
   "cell_type": "code",
   "execution_count": 158,
   "metadata": {},
   "outputs": [
    {
     "data": {
      "text/html": [
       "<div>\n",
       "<style scoped>\n",
       "    .dataframe tbody tr th:only-of-type {\n",
       "        vertical-align: middle;\n",
       "    }\n",
       "\n",
       "    .dataframe tbody tr th {\n",
       "        vertical-align: top;\n",
       "    }\n",
       "\n",
       "    .dataframe thead th {\n",
       "        text-align: right;\n",
       "    }\n",
       "</style>\n",
       "<table border=\"1\" class=\"dataframe\">\n",
       "  <thead>\n",
       "    <tr style=\"text-align: right;\">\n",
       "      <th></th>\n",
       "      <th>coefficients</th>\n",
       "    </tr>\n",
       "  </thead>\n",
       "  <tbody>\n",
       "    <tr>\n",
       "      <th>(x0_9,)</th>\n",
       "      <td>1.321560e+06</td>\n",
       "    </tr>\n",
       "    <tr>\n",
       "      <th>(x0_7,)</th>\n",
       "      <td>1.150402e+06</td>\n",
       "    </tr>\n",
       "    <tr>\n",
       "      <th>(x0_13,)</th>\n",
       "      <td>1.108625e+06</td>\n",
       "    </tr>\n",
       "    <tr>\n",
       "      <th>(x0_20,)</th>\n",
       "      <td>1.016774e+06</td>\n",
       "    </tr>\n",
       "    <tr>\n",
       "      <th>(x0_11,)</th>\n",
       "      <td>9.373082e+05</td>\n",
       "    </tr>\n",
       "    <tr>\n",
       "      <th>(x0_19,)</th>\n",
       "      <td>8.603626e+05</td>\n",
       "    </tr>\n",
       "    <tr>\n",
       "      <th>(x1_1,)</th>\n",
       "      <td>7.343720e+05</td>\n",
       "    </tr>\n",
       "    <tr>\n",
       "      <th>(x0_12,)</th>\n",
       "      <td>7.261122e+05</td>\n",
       "    </tr>\n",
       "    <tr>\n",
       "      <th>(x0_18,)</th>\n",
       "      <td>5.945023e+05</td>\n",
       "    </tr>\n",
       "    <tr>\n",
       "      <th>(x2_June,)</th>\n",
       "      <td>5.031787e+05</td>\n",
       "    </tr>\n",
       "    <tr>\n",
       "      <th>(x2_February,)</th>\n",
       "      <td>4.602719e+05</td>\n",
       "    </tr>\n",
       "    <tr>\n",
       "      <th>(x0_17,)</th>\n",
       "      <td>4.259441e+05</td>\n",
       "    </tr>\n",
       "    <tr>\n",
       "      <th>(x0_8,)</th>\n",
       "      <td>4.016642e+05</td>\n",
       "    </tr>\n",
       "    <tr>\n",
       "      <th>(x0_6,)</th>\n",
       "      <td>3.932002e+05</td>\n",
       "    </tr>\n",
       "    <tr>\n",
       "      <th>(x0_14,)</th>\n",
       "      <td>3.925170e+05</td>\n",
       "    </tr>\n",
       "    <tr>\n",
       "      <th>(x2_August,)</th>\n",
       "      <td>3.213013e+05</td>\n",
       "    </tr>\n",
       "    <tr>\n",
       "      <th>(x0_16,)</th>\n",
       "      <td>1.493135e+05</td>\n",
       "    </tr>\n",
       "    <tr>\n",
       "      <th>(x0_15,)</th>\n",
       "      <td>1.480068e+05</td>\n",
       "    </tr>\n",
       "    <tr>\n",
       "      <th>(x0_5,)</th>\n",
       "      <td>1.162674e+05</td>\n",
       "    </tr>\n",
       "    <tr>\n",
       "      <th>(x2_May,)</th>\n",
       "      <td>8.568136e+04</td>\n",
       "    </tr>\n",
       "    <tr>\n",
       "      <th>(x2_July,)</th>\n",
       "      <td>7.031526e+04</td>\n",
       "    </tr>\n",
       "    <tr>\n",
       "      <th>(Unemployment,)</th>\n",
       "      <td>5.512440e+04</td>\n",
       "    </tr>\n",
       "    <tr>\n",
       "      <th>(x2_December,)</th>\n",
       "      <td>5.503155e+04</td>\n",
       "    </tr>\n",
       "    <tr>\n",
       "      <th>(x2_March,)</th>\n",
       "      <td>5.476891e+04</td>\n",
       "    </tr>\n",
       "    <tr>\n",
       "      <th>(x2_October,)</th>\n",
       "      <td>4.911315e+04</td>\n",
       "    </tr>\n",
       "    <tr>\n",
       "      <th>(Fuel_Price,)</th>\n",
       "      <td>4.776614e+04</td>\n",
       "    </tr>\n",
       "    <tr>\n",
       "      <th>(x2_January,)</th>\n",
       "      <td>4.372507e+04</td>\n",
       "    </tr>\n",
       "    <tr>\n",
       "      <th>(x2_September,)</th>\n",
       "      <td>3.063376e+04</td>\n",
       "    </tr>\n",
       "    <tr>\n",
       "      <th>(x2_November,)</th>\n",
       "      <td>1.666422e+04</td>\n",
       "    </tr>\n",
       "    <tr>\n",
       "      <th>(Temperature,)</th>\n",
       "      <td>1.438264e+04</td>\n",
       "    </tr>\n",
       "    <tr>\n",
       "      <th>(x0_3,)</th>\n",
       "      <td>1.298136e+04</td>\n",
       "    </tr>\n",
       "    <tr>\n",
       "      <th>(x0_10,)</th>\n",
       "      <td>8.154077e+03</td>\n",
       "    </tr>\n",
       "    <tr>\n",
       "      <th>(x0_2,)</th>\n",
       "      <td>3.539932e+03</td>\n",
       "    </tr>\n",
       "    <tr>\n",
       "      <th>(x0_4,)</th>\n",
       "      <td>2.649133e+03</td>\n",
       "    </tr>\n",
       "    <tr>\n",
       "      <th>(CPI,)</th>\n",
       "      <td>4.699471e+02</td>\n",
       "    </tr>\n",
       "  </tbody>\n",
       "</table>\n",
       "</div>"
      ],
      "text/plain": [
       "                 coefficients\n",
       "(x0_9,)          1.321560e+06\n",
       "(x0_7,)          1.150402e+06\n",
       "(x0_13,)         1.108625e+06\n",
       "(x0_20,)         1.016774e+06\n",
       "(x0_11,)         9.373082e+05\n",
       "(x0_19,)         8.603626e+05\n",
       "(x1_1,)          7.343720e+05\n",
       "(x0_12,)         7.261122e+05\n",
       "(x0_18,)         5.945023e+05\n",
       "(x2_June,)       5.031787e+05\n",
       "(x2_February,)   4.602719e+05\n",
       "(x0_17,)         4.259441e+05\n",
       "(x0_8,)          4.016642e+05\n",
       "(x0_6,)          3.932002e+05\n",
       "(x0_14,)         3.925170e+05\n",
       "(x2_August,)     3.213013e+05\n",
       "(x0_16,)         1.493135e+05\n",
       "(x0_15,)         1.480068e+05\n",
       "(x0_5,)          1.162674e+05\n",
       "(x2_May,)        8.568136e+04\n",
       "(x2_July,)       7.031526e+04\n",
       "(Unemployment,)  5.512440e+04\n",
       "(x2_December,)   5.503155e+04\n",
       "(x2_March,)      5.476891e+04\n",
       "(x2_October,)    4.911315e+04\n",
       "(Fuel_Price,)    4.776614e+04\n",
       "(x2_January,)    4.372507e+04\n",
       "(x2_September,)  3.063376e+04\n",
       "(x2_November,)   1.666422e+04\n",
       "(Temperature,)   1.438264e+04\n",
       "(x0_3,)          1.298136e+04\n",
       "(x0_10,)         8.154077e+03\n",
       "(x0_2,)          3.539932e+03\n",
       "(x0_4,)          2.649133e+03\n",
       "(CPI,)           4.699471e+02"
      ]
     },
     "execution_count": 158,
     "metadata": {},
     "output_type": "execute_result"
    }
   ],
   "source": [
    "coef_num = pd.DataFrame(index = Z, data = { 'coefficients' : linear.coef_[:],\n",
    "                                                  #‘pvalues’ : ols_fit.pvalues[1:5] }\n",
    "                                                }).sort_values('coefficients')\n",
    "\n",
    "coef_num.apply(lambda x : abs(x)).sort_values(by=\"coefficients\", ascending=False)"
   ]
  },
  {
   "cell_type": "code",
   "execution_count": 159,
   "metadata": {},
   "outputs": [
    {
     "data": {
      "text/html": [
       "<div>\n",
       "<style scoped>\n",
       "    .dataframe tbody tr th:only-of-type {\n",
       "        vertical-align: middle;\n",
       "    }\n",
       "\n",
       "    .dataframe tbody tr th {\n",
       "        vertical-align: top;\n",
       "    }\n",
       "\n",
       "    .dataframe thead th {\n",
       "        text-align: right;\n",
       "    }\n",
       "</style>\n",
       "<table border=\"1\" class=\"dataframe\">\n",
       "  <thead>\n",
       "    <tr style=\"text-align: right;\">\n",
       "      <th></th>\n",
       "      <th>coefficients</th>\n",
       "    </tr>\n",
       "  </thead>\n",
       "  <tbody>\n",
       "    <tr>\n",
       "      <th>Unemployment</th>\n",
       "      <td>-116267.375176</td>\n",
       "    </tr>\n",
       "    <tr>\n",
       "      <th>Fuel_Price</th>\n",
       "      <td>-12981.363961</td>\n",
       "    </tr>\n",
       "    <tr>\n",
       "      <th>Temperature</th>\n",
       "      <td>-3539.931790</td>\n",
       "    </tr>\n",
       "    <tr>\n",
       "      <th>CPI</th>\n",
       "      <td>2649.133221</td>\n",
       "    </tr>\n",
       "  </tbody>\n",
       "</table>\n",
       "</div>"
      ],
      "text/plain": [
       "               coefficients\n",
       "Unemployment -116267.375176\n",
       "Fuel_Price    -12981.363961\n",
       "Temperature    -3539.931790\n",
       "CPI             2649.133221"
      ]
     },
     "execution_count": 159,
     "metadata": {},
     "output_type": "execute_result"
    }
   ],
   "source": [
    "coef_num = pd.DataFrame(index =numeric, data = { 'coefficients' : linear.coef_[0:4]}).sort_values(\"coefficients\")\n",
    "coef_num"
   ]
  },
  {
   "cell_type": "code",
   "execution_count": 160,
   "metadata": {},
   "outputs": [
    {
     "data": {
      "text/html": [
       "<div>\n",
       "<style scoped>\n",
       "    .dataframe tbody tr th:only-of-type {\n",
       "        vertical-align: middle;\n",
       "    }\n",
       "\n",
       "    .dataframe tbody tr th {\n",
       "        vertical-align: top;\n",
       "    }\n",
       "\n",
       "    .dataframe thead th {\n",
       "        text-align: right;\n",
       "    }\n",
       "</style>\n",
       "<table border=\"1\" class=\"dataframe\">\n",
       "  <thead>\n",
       "    <tr style=\"text-align: right;\">\n",
       "      <th></th>\n",
       "      <th>coefficients</th>\n",
       "    </tr>\n",
       "  </thead>\n",
       "  <tbody>\n",
       "    <tr>\n",
       "      <th>x0_5</th>\n",
       "      <td>-1.321560e+06</td>\n",
       "    </tr>\n",
       "    <tr>\n",
       "      <th>x0_3</th>\n",
       "      <td>-1.150402e+06</td>\n",
       "    </tr>\n",
       "    <tr>\n",
       "      <th>x0_9</th>\n",
       "      <td>-1.108625e+06</td>\n",
       "    </tr>\n",
       "    <tr>\n",
       "      <th>x0_16</th>\n",
       "      <td>-1.016774e+06</td>\n",
       "    </tr>\n",
       "    <tr>\n",
       "      <th>x0_7</th>\n",
       "      <td>-9.373082e+05</td>\n",
       "    </tr>\n",
       "    <tr>\n",
       "      <th>x0_15</th>\n",
       "      <td>-8.603626e+05</td>\n",
       "    </tr>\n",
       "    <tr>\n",
       "      <th>x0_17</th>\n",
       "      <td>-7.343720e+05</td>\n",
       "    </tr>\n",
       "    <tr>\n",
       "      <th>x0_8</th>\n",
       "      <td>-7.261122e+05</td>\n",
       "    </tr>\n",
       "    <tr>\n",
       "      <th>x0_18</th>\n",
       "      <td>-3.213013e+05</td>\n",
       "    </tr>\n",
       "    <tr>\n",
       "      <th>x0_12</th>\n",
       "      <td>-1.493135e+05</td>\n",
       "    </tr>\n",
       "    <tr>\n",
       "      <th>x2_January</th>\n",
       "      <td>-8.568136e+04</td>\n",
       "    </tr>\n",
       "    <tr>\n",
       "      <th>x2_September</th>\n",
       "      <td>-5.512440e+04</td>\n",
       "    </tr>\n",
       "    <tr>\n",
       "      <th>x0_19</th>\n",
       "      <td>-5.503155e+04</td>\n",
       "    </tr>\n",
       "    <tr>\n",
       "      <th>x2_March</th>\n",
       "      <td>-3.063376e+04</td>\n",
       "    </tr>\n",
       "    <tr>\n",
       "      <th>x0_6</th>\n",
       "      <td>-8.154077e+03</td>\n",
       "    </tr>\n",
       "    <tr>\n",
       "      <th>x2_October</th>\n",
       "      <td>4.699471e+02</td>\n",
       "    </tr>\n",
       "    <tr>\n",
       "      <th>x2_May</th>\n",
       "      <td>1.438264e+04</td>\n",
       "    </tr>\n",
       "    <tr>\n",
       "      <th>x2_July</th>\n",
       "      <td>1.666422e+04</td>\n",
       "    </tr>\n",
       "    <tr>\n",
       "      <th>x1_1</th>\n",
       "      <td>4.372507e+04</td>\n",
       "    </tr>\n",
       "    <tr>\n",
       "      <th>x2_November</th>\n",
       "      <td>4.776614e+04</td>\n",
       "    </tr>\n",
       "    <tr>\n",
       "      <th>x2_June</th>\n",
       "      <td>4.911315e+04</td>\n",
       "    </tr>\n",
       "    <tr>\n",
       "      <th>x2_February</th>\n",
       "      <td>5.476891e+04</td>\n",
       "    </tr>\n",
       "    <tr>\n",
       "      <th>x2_August</th>\n",
       "      <td>7.031526e+04</td>\n",
       "    </tr>\n",
       "    <tr>\n",
       "      <th>x0_11</th>\n",
       "      <td>1.480068e+05</td>\n",
       "    </tr>\n",
       "    <tr>\n",
       "      <th>x0_10</th>\n",
       "      <td>3.925170e+05</td>\n",
       "    </tr>\n",
       "    <tr>\n",
       "      <th>x0_2</th>\n",
       "      <td>3.932002e+05</td>\n",
       "    </tr>\n",
       "    <tr>\n",
       "      <th>x0_4</th>\n",
       "      <td>4.016642e+05</td>\n",
       "    </tr>\n",
       "    <tr>\n",
       "      <th>x0_13</th>\n",
       "      <td>4.259441e+05</td>\n",
       "    </tr>\n",
       "    <tr>\n",
       "      <th>x0_20</th>\n",
       "      <td>4.602719e+05</td>\n",
       "    </tr>\n",
       "    <tr>\n",
       "      <th>x2_December</th>\n",
       "      <td>5.031787e+05</td>\n",
       "    </tr>\n",
       "    <tr>\n",
       "      <th>x0_14</th>\n",
       "      <td>5.945023e+05</td>\n",
       "    </tr>\n",
       "  </tbody>\n",
       "</table>\n",
       "</div>"
      ],
      "text/plain": [
       "              coefficients\n",
       "x0_5         -1.321560e+06\n",
       "x0_3         -1.150402e+06\n",
       "x0_9         -1.108625e+06\n",
       "x0_16        -1.016774e+06\n",
       "x0_7         -9.373082e+05\n",
       "x0_15        -8.603626e+05\n",
       "x0_17        -7.343720e+05\n",
       "x0_8         -7.261122e+05\n",
       "x0_18        -3.213013e+05\n",
       "x0_12        -1.493135e+05\n",
       "x2_January   -8.568136e+04\n",
       "x2_September -5.512440e+04\n",
       "x0_19        -5.503155e+04\n",
       "x2_March     -3.063376e+04\n",
       "x0_6         -8.154077e+03\n",
       "x2_October    4.699471e+02\n",
       "x2_May        1.438264e+04\n",
       "x2_July       1.666422e+04\n",
       "x1_1          4.372507e+04\n",
       "x2_November   4.776614e+04\n",
       "x2_June       4.911315e+04\n",
       "x2_February   5.476891e+04\n",
       "x2_August     7.031526e+04\n",
       "x0_11         1.480068e+05\n",
       "x0_10         3.925170e+05\n",
       "x0_2          3.932002e+05\n",
       "x0_4          4.016642e+05\n",
       "x0_13         4.259441e+05\n",
       "x0_20         4.602719e+05\n",
       "x2_December   5.031787e+05\n",
       "x0_14         5.945023e+05"
      ]
     },
     "execution_count": 160,
     "metadata": {},
     "output_type": "execute_result"
    }
   ],
   "source": [
    "coef_cat = pd.DataFrame(index =features, data = { 'coefficients' : linear.coef_[4:35],}).sort_values(by = \"coefficients\")\n",
    "df3 = pd.concat([coef_num,coef_cat])\n",
    "coef_cat"
   ]
  },
  {
   "cell_type": "markdown",
   "metadata": {},
   "source": [
    "Thanks to the coefficients, we can see some variables usefully positive to our prediction, compare to some others variables that they are negative."
   ]
  },
  {
   "cell_type": "markdown",
   "metadata": {},
   "source": [
    "### Ridge"
   ]
  },
  {
   "cell_type": "code",
   "execution_count": 161,
   "metadata": {},
   "outputs": [
    {
     "name": "stdout",
     "output_type": "stream",
     "text": [
      "3-fold cross-validation...\n",
      "The cross-validated R2-score is :  0.8578952382853637\n",
      "The standard deviation is :  0.02782653983051493\n"
     ]
    }
   ],
   "source": [
    "# Perform 3-fold cross-validation to evaluate the generalized R2 score obtained with a Ridge model\n",
    "print(\"3-fold cross-validation...\")\n",
    "regressor = Ridge()\n",
    "scores = cross_val_score(regressor, X_train, Y_train, cv=4)\n",
    "#scores = cross_val_score(regressor, X_train, Y_train, cv=5)\n",
    "print('The cross-validated R2-score is : ', scores.mean())\n",
    "print('The standard deviation is : ', scores.std())"
   ]
  },
  {
   "cell_type": "code",
   "execution_count": 162,
   "metadata": {},
   "outputs": [
    {
     "name": "stdout",
     "output_type": "stream",
     "text": [
      "Grid search...\n",
      "...Done.\n",
      "Best hyperparameters :  {'alpha': 0.001}\n",
      "Best R2 score :  0.9723445501929362\n"
     ]
    }
   ],
   "source": [
    "# Perform grid search\n",
    "print(\"Grid search...\")\n",
    "# Grid of values to be tested\n",
    "params = {\n",
    "    'alpha': [0.0, 0.00001, 0.001, 0.1, 0.2, 0.5, 1.0, 10, 100] # 0 corresponds to no regularization\n",
    "}\n",
    "gridsearch = GridSearchCV(regressor, param_grid = params, cv = 6) # cv : the number of folds to be used for CV\n",
    "gridsearch.fit(X_train, Y_train)\n",
    "print(\"...Done.\")\n",
    "print(\"Best hyperparameters : \", gridsearch.best_params_)\n",
    "print(\"Best R2 score : \", gridsearch.best_score_)"
   ]
  },
  {
   "cell_type": "code",
   "execution_count": 164,
   "metadata": {},
   "outputs": [
    {
     "name": "stdout",
     "output_type": "stream",
     "text": [
      "Predictions on training set...\n",
      "...Done.\n",
      "Predictions on test set...\n",
      "...Done.\n",
      "Best R2 score on training set (Linear Regression):  0.9901455538274847\n",
      "Best R2 score on test set (Linear Regression):  0.8991665820801145\n",
      "\n",
      "The Mean Squarred Error on test set:\n",
      " 31556001326.76538\n",
      "It means that we predict the test Weekly_sales with a mean error of 177640 dollars \n"
     ]
    }
   ],
   "source": [
    "# Predictions on training set\n",
    "# The model has already be re-trained on all the training set at the end of the grid search, so we can directly use it !\n",
    "print(\"Predictions on training set...\")\n",
    "Y_train_ridge_pred = gridsearch.predict(X_train)\n",
    "print(\"...Done.\")\n",
    "#print(Y_train_pred)\n",
    "#print()\n",
    "\n",
    "# Predictions on test set\n",
    "print(\"Predictions on test set...\")\n",
    "Y_test_ridge_pred = gridsearch.predict(X_test)\n",
    "print(\"...Done.\")\n",
    "#print(Y_test_pred)\n",
    "#print()\n",
    "\n",
    "# Print R^2 scores on train/test sets for the Ridge model with optimal value of the regularization strength\n",
    "print(\"Best R2 score on training set (Linear Regression): \", r2_score(Y_train, Y_train_pred))\n",
    "print(\"Best R2 score on test set (Linear Regression): \", r2_score(Y_test, Y_test_pred))\n",
    "print (\"\\nThe Mean Squarred Error on test set:\\n\", mean_squared_error(Y_test, Y_test_ridge_pred))\n",
    "print('It means that we predict the test Weekly_sales with a mean error of {} dollars '.format(int(mean_squared_error(Y_test, Y_test_ridge_pred)**0.5)))"
   ]
  },
  {
   "cell_type": "markdown",
   "metadata": {},
   "source": [
    "#### Nous pouvons conclure que la donnée la plus impactante est le 'Store'. En effet, changer de magasin peut changer le résultat avec un coeff élevé.\n",
    "#### Mais si on regarde le coeff du mois par exemple, décembre est un assez bon accélérateur de business."
   ]
  },
  {
   "cell_type": "markdown",
   "metadata": {},
   "source": [
    "## \n",
    "\n",
    "### On peut voir que le modèle Ridge n'est pas plus forcément haut que notre premier modèle. Si nous regardons nos R2 et MSE, ils étaient meilleurs que le Ridge, donc nous pouvons garder le premier modèle."
   ]
  },
  {
   "cell_type": "code",
   "execution_count": null,
   "metadata": {},
   "outputs": [],
   "source": []
  }
 ],
 "metadata": {
  "kernelspec": {
   "display_name": "Python 3",
   "language": "python",
   "name": "python3"
  },
  "language_info": {
   "codemirror_mode": {
    "name": "ipython",
    "version": 3
   },
   "file_extension": ".py",
   "mimetype": "text/x-python",
   "name": "python",
   "nbconvert_exporter": "python",
   "pygments_lexer": "ipython3",
   "version": "3.8.6"
  }
 },
 "nbformat": 4,
 "nbformat_minor": 4
}
